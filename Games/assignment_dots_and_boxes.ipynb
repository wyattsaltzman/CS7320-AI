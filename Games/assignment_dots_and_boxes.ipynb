{
 "cells": [
  {
   "cell_type": "markdown",
   "metadata": {},
   "source": [
    "# Adversarial Search: Playing Dots and Boxes\n",
    "\n",
    "\n",
    "## Instructions\n",
    "\n",
    "Total Points: Undegraduates 100, graduate students 110\n",
    "\n",
    "Complete this notebook and submit it. The notebook needs to be a complete project report with your implementation, documentation including a short discussion of how your implementation works and your design choices, and experimental results (e.g., tables and charts with simulation results) with a short discussion of what they mean. Use the provided notebook cells and insert additional code and markdown cells as needed.\n",
    "\n",
    "## Introduction\n",
    "\n",
    "You will implement different versions of agents that play the game Dots and Boxes:\n",
    "\n",
    "> \"Dots and Boxes is a pencil-and-paper game for two players. The game starts with an empty grid of dots. Usually two players take turns adding a single horizontal or vertical line between two unjoined adjacent dots. A player who completes the fourth side of a 1x1 box earns one point and takes another turn. A point is typically recorded by placing a mark that identifies the player in the box, such as an initial. The game ends when no more lines can be placed. The winner is the player with the most points. The board may be of any size grid.\" (see [Dots and Boxes on Wikipedia](https://en.wikipedia.org/wiki/Dots_and_Boxes))\n",
    "\n",
    "You can play Dots and Boxes [here](https://www.math.ucla.edu/~tom/Games/dots&boxes.html)."
   ]
  },
  {
   "cell_type": "markdown",
   "metadata": {},
   "source": [
    "## Task 1: Defining the Search Problem [10 point]\n",
    "\n",
    "Define the components of the search problem associated with this game:\n",
    "\n",
    "* Initial state\n",
    "* Actions\n",
    "* Transition model\n",
    "* Test for the terminal state\n",
    "* Utility for terminal states"
   ]
  },
  {
   "cell_type": "markdown",
   "metadata": {},
   "source": [
    "### Your code/answer goes here.\n",
    "- initial state = The board is empty with no lines.\n",
    "- Actions = add a line between two dots. Gets all the possible actions an agent can make\n",
    "- Transition model = result(s,a) = s'  \n",
    "    - draws a line that results in the board having two new dots connected with a line. Will also determine who won a completed box\n",
    "- Tests for the terminal state = determines if the game is over or not hence if all the possible moves have been completed\n",
    "- Utility for terminal state = determines if a player has won, lost, or tied the game "
   ]
  },
  {
   "cell_type": "markdown",
   "metadata": {},
   "source": [
    "How big is the state space? Give an estimate and explain it."
   ]
  },
  {
   "cell_type": "markdown",
   "metadata": {},
   "source": [
    "### Your code/ answer goes here.\n",
    "state space = 2^(number of horizontal dots) * 2^(number of vertical dots)\n",
    "\n",
    "This is my estimate because there can either be a line drawn or not drawn on each horizontal/vertical dot. Because the space doesn't have to be a perfect square you multiply the states of the number of horizontal dots by all the states of the number of vertical dots."
   ]
  },
  {
   "cell_type": "markdown",
   "metadata": {},
   "source": [
    "How big is the game tree that minimax search will go through? Give an estimate and explain it."
   ]
  },
  {
   "cell_type": "markdown",
   "metadata": {},
   "source": [
    "### Your code/ answer goes here.\n",
    "The game tree will be much bigger than the state space as the same state can be gotten to in different subtrees.\n",
    "The number of nodes in teh subtree of NxN board is shown with this formula: 1 * N * (N * (N-1) * (N * (N-1) * (N-2)...N!)"
   ]
  },
  {
   "cell_type": "markdown",
   "metadata": {},
   "source": [
    "## Task 2: Game Environment and Random Agent [30 point]\n",
    "\n",
    "You need to think about a data structure to represent the board meaning he placed lines and who finished what box. There are many options. Let's represent the board using a simple dictionary where `n` and `m` represents the number of dots horizontaly and vertically, respectively. Everybody needs to use the same representation so we can let agents play against each other later. "
   ]
  },
  {
   "cell_type": "code",
   "execution_count": 307,
   "metadata": {},
   "outputs": [],
   "source": [
    "board = {\n",
    "    'n': 4,  ### hoizontal dots\n",
    "    'm': 4,  ### vertical dots\n",
    "    'score1': 0, ### score for player 1\n",
    "    'score-1': 0  ### score for player 2\n",
    "}\n",
    "\n",
    "def draw_line(board, orientation, row, col, player):\n",
    "    \"\"\"\n",
    "    Place a line on an exiting board.\n",
    "       \n",
    "    Parameters\n",
    "    ----------\n",
    "    board: dict\n",
    "        the board\n",
    "    orientation: str\n",
    "        either 'h' or 'v' for horizontal or vertical\n",
    "    row, col: int\n",
    "        index of the starting dot for the line (starting with 0)\n",
    "    \n",
    "    \"\"\"\n",
    "    \n",
    "    if orientation not in ['h', 'v']:\n",
    "        return False\n",
    "        \n",
    "    if row < 0 or col < 0:\n",
    "        return False\n",
    "        \n",
    "    if row >= board['n'] + (orientation == 'h') or col >= board['m'] + (orientation == 'v'):\n",
    "        return False\n",
    "        \n",
    "    if (orientation, row, col, 1) in board or (orientation, row, col, -1) in board:\n",
    "        return False\n",
    "            \n",
    "    board[(orientation, row, col)] = True\n",
    "    # check if square is full\n",
    "    if orientation == 'h':\n",
    "        if row == 1:\n",
    "            if ('v', row, col) in board and ('h', row+1, col) in board and ('v', row, col+1) in board and (row, col) not in board:\n",
    "                # print('Player {} scores!'.format(player))\n",
    "                board[(row, col)] = player\n",
    "                board['score{}'.format(player)] += 1\n",
    "        elif row == board['m']:\n",
    "            if ('v', row-1, col) in board and ('h', row-1, col) in board and ('v', row-1, col+1) in board and (row-1, col) not in board:\n",
    "                # print('Player {} scores!'.format(player))\n",
    "                board[(row-1, col)] = player\n",
    "                board['score{}'.format(player)] += 1\n",
    "        else:\n",
    "            if ('v', row, col) in board and ('h', row+1, col) in board and ('v', row, col+1) in board and (row,col) not in board:\n",
    "                # print('Player {} scores!'.format(player))\n",
    "                board[(row, col)] = player\n",
    "                board['score{}'.format(player)] += 1\n",
    "            if ('v', row-1, col) in board and ('h', row-1, col) in board and ('v', row-1, col+1) in board and (row-1,col) not in board:\n",
    "                # print('Player {} scores!'.format(player))\n",
    "                board[(row-1, col)] = player\n",
    "                board['score{}'.format(player)] += 1\n",
    "    elif orientation == 'v':\n",
    "        if col == 1:\n",
    "            if ('h', row, col) in board and ('v', row, col+1) in board and ('h', row+1, col) in board and (row, col) not in board:\n",
    "                # print('Player {} scores!'.format(player))\n",
    "                board[(row, col)] = player\n",
    "                board['score{}'.format(player)] += 1\n",
    "        elif col == board['m']:\n",
    "            if ('h', row, col-1) in board and ('v', row, col-1) in board and ('h', row+1, col-1) in board and (row, col-1) not in board:\n",
    "                # print('Player {} scores!'.format(player))\n",
    "                board[(row, col-1)] = player\n",
    "                board['score{}'.format(player)] += 1\n",
    "        else:\n",
    "            if ('h', row, col) in board and ('v', row, col+1) in board and ('h', row+1, col) in board and (row,col) not in board:\n",
    "                # print('Player {} scores!'.format(player))\n",
    "                board[(row, col)] = player\n",
    "                board['score{}'.format(player)] += 1\n",
    "            if ('h', row, col-1) in board and ('v', row, col-1) in board and ('h', row+1, col-1) in board and (row,col-1) not in board:\n",
    "                # print('Player {} scores!'.format(player))\n",
    "                board[(row, col-1)] = player\n",
    "                board['score{}'.format(player)] += 1\n",
    "\n",
    "\n",
    "    return True\n",
    "\n"
   ]
  },
  {
   "cell_type": "markdown",
   "metadata": {},
   "source": [
    "Write code to display the board. **Bonus point: Post your visualization code with an example output to the discussion board. The best visualization will earn you bonus participation points in this class.**"
   ]
  },
  {
   "cell_type": "code",
   "execution_count": 309,
   "metadata": {
    "scrolled": true
   },
   "outputs": [],
   "source": [
    "# Your code/ answer goes here.\n",
    "import matplotlib.pyplot as plt\n",
    "from matplotlib import colors\n",
    "import numpy as np\n",
    "\n",
    "def show_board(board):\n",
    "    cmap = colors.ListedColormap(['white', 'pink', 'blue', 'green', 'yellow'])\n",
    "    hight = board['n']\n",
    "    width = board['m']\n",
    "    # adds an extra space between dots for the line\n",
    "    np_arr = np.zeros((hight * 2 - 1, width * 2 -1 ))\n",
    "    h = width*2-1\n",
    "    for i in range(len(np_arr.flat)):\n",
    "        if i % 2 == 0:\n",
    "            np_arr.flat[i] = 1\n",
    "    for i in range(h):\n",
    "        if i % 2 == 1:\n",
    "            np_arr[:,i] = 0\n",
    "    # draw line\n",
    "    for key in board:\n",
    "        if key[0] == 'h':\n",
    "            np_arr[(key[1]-1)*2, (key[2]-1)*2+1] = 2\n",
    "        elif key[0] == 'v':\n",
    "            np_arr[(key[1]-1)*2+1, (key[2]-1)*2] = 2\n",
    "    # draw score\n",
    "    for key in board:\n",
    "        if key != 'n' and key != 'm' and key != 'score1' and key != 'score-1' and key[0] != 'h' and key[0] != 'v':\n",
    "            row = (key[0]-1) * 2 + 1\n",
    "            col = (key[1]-1) * 2 + 1\n",
    "            if board[key] == 1:\n",
    "                np_arr[row, col] = 3\n",
    "            elif board[key] == -1:\n",
    "                np_arr[row, col] = 4\n",
    "    plt.imshow(np_arr, cmap=cmap, norm = colors.BoundaryNorm(list(range(cmap.N + 1)), cmap.N))\n",
    "    plt.show()"
   ]
  },
  {
   "cell_type": "markdown",
   "metadata": {},
   "source": [
    "Implement helper functions for:\n",
    "\n",
    "* The transition model $result(s, a)$.\n",
    "* The utility function $utility(s)$.\n",
    "* Check for terminal states $terminal(s)$.\n",
    "* A check for available actions in each state $actions(s)$.\n",
    "\n",
    "__Notes:__\n",
    "* Make sure that all these functions work with boards of different sizes (number of columns and rows as stored in the board).\n",
    "* The result function evaluates if the player closed a box and needs to store that information on the board. Add elements of the form `(row,col): player` to the board dictionary. `row` and `col` are the coordinates for the box and `player` is +1 or -1 representing the player. For example `(0,0): -1` means that the top-left box belongs to the other player. "
   ]
  },
  {
   "cell_type": "code",
   "execution_count": 310,
   "metadata": {},
   "outputs": [],
   "source": [
    "# gets list of all possible moves for a player\n",
    "def actions(board):\n",
    "    \"\"\"\n",
    "    Return a list of possible actions.\n",
    "    \"\"\"\n",
    "    width = board['m']\n",
    "    hight = board['n']\n",
    "    actions = []\n",
    "    completed = []\n",
    "    for key in board:\n",
    "        if key[0] == 'h' or key[0] == 'v':\n",
    "            completed.append((key[0],key[1], key[2]))\n",
    "    for i in range(1, hight):\n",
    "        for j in range(1, width):\n",
    "            if ('h', i, j) not in completed:\n",
    "                actions.append(('h',i,j))\n",
    "            if ('v', i, j) not in completed:\n",
    "                actions.append(('v', i,j))\n",
    "    for i in range(1, width):\n",
    "        if ('h', hight, i) not in completed:\n",
    "            actions.append(('h', hight, i))\n",
    "    for i in range(1, hight):\n",
    "        if ('v', i, width) not in completed:\n",
    "            actions.append(('v', i, width))\n",
    "    return actions"
   ]
  },
  {
   "cell_type": "code",
   "execution_count": 4,
   "metadata": {},
   "outputs": [],
   "source": [
    "def terminal(board):\n",
    "    \"\"\"\n",
    "    Return True if the game is over, False otherwise.\n",
    "    \"\"\"\n",
    "    moves = actions(board)\n",
    "    if len(moves) == 0:\n",
    "        return True\n",
    "    return False\n",
    "    "
   ]
  },
  {
   "cell_type": "code",
   "execution_count": 5,
   "metadata": {},
   "outputs": [],
   "source": [
    "def check_win(board, player=1):\n",
    "    \"\"\"\n",
    "    Return the value of this final state to player. Returns None if final state has not been reached.\n",
    "    \"\"\"\n",
    "    moves = actions(board)\n",
    "    if len(moves) == 0:\n",
    "        if player==1:\n",
    "            if board['score1'] > board['score-1']:\n",
    "                return 'win'\n",
    "            elif board['score1'] < board['score-1']:\n",
    "                return 'lose'\n",
    "            else:\n",
    "                return 'tie'\n",
    "        else:\n",
    "            if board['score1'] < board['score-1']:\n",
    "                return 'win'\n",
    "            elif board['score1'] > board['score-1']:\n",
    "                return 'lose'\n",
    "            else:\n",
    "                return 'tie'\n",
    "    return None"
   ]
  },
  {
   "cell_type": "code",
   "execution_count": 6,
   "metadata": {},
   "outputs": [],
   "source": [
    "def utility(board, player=1):\n",
    "    \"\"\"\n",
    "    Return the value of this final state to player.\n",
    "    \"\"\"\n",
    "    g= check_win(board, player)\n",
    "    if g == 'win':\n",
    "        return 1\n",
    "    elif g == 'lose':\n",
    "        return -1\n",
    "    elif g == 'tie':\n",
    "        return 0\n",
    "    else:\n",
    "        return None"
   ]
  },
  {
   "cell_type": "code",
   "execution_count": 8,
   "metadata": {},
   "outputs": [],
   "source": [
    "def result(s, p, a):\n",
    "    \"\"\"\n",
    "    Return the state that results from making move p in state s on action a.\n",
    "    \"\"\"\n",
    "    newBoard = s.copy()\n",
    "    draw_line(newBoard, a[0], a[1], a[2], p)\n",
    "    return newBoard"
   ]
  },
  {
   "cell_type": "code",
   "execution_count": 9,
   "metadata": {},
   "outputs": [],
   "source": [
    "def empty_board(x = 4, y = 4):\n",
    "    \"\"\"\n",
    "    Return an empty board.\n",
    "    \"\"\"\n",
    "    board = {'n': x, 'm': y, 'score1': 0, 'score-1': 0}\n",
    "    return board"
   ]
  },
  {
   "cell_type": "code",
   "execution_count": 336,
   "metadata": {},
   "outputs": [],
   "source": [
    "#check if the action has closed a box\n",
    "def check_closed(board, action, player=1):\n",
    "    if action is None:\n",
    "        return False\n",
    "    board = board.copy()\n",
    "    if action not in board:\n",
    "        print('action not in board')\n",
    "        return False\n",
    "    # score = (action[1], action[2])\n",
    "    # if score in board:\n",
    "    #     return True\n",
    "    if action[0] == 'v':\n",
    "        if  ('v', action[1], action[2]+1) in board and ('h', action[1]-1, action[2]) in board and ('h', action[1], action[2]) in board:\n",
    "            return True\n",
    "        if ('v', action[1], action[2]-1) in board and ('h', action[1], action[2]-1) in board and ('h', action[1]-1, action[2]-1) in board:\n",
    "            return True\n",
    "    elif action[0] == 'h':\n",
    "        if ('v', action[1]+1, action[2]) in board and ('h', action[1]+1, action[2]) in board and ('v', action[1]+1, action[2]+1) in board:\n",
    "          \n",
    "            return True\n",
    "        if ('h', action[1]-1, action[2]) in board and ('v', action[1], action[2]) in board and ('v', action[1], action[2]+1) in board:\n",
    "         \n",
    "            return True\n",
    "\n",
    "    return False"
   ]
  },
  {
   "cell_type": "markdown",
   "metadata": {},
   "source": [
    "Implement an agent that plays randomly. Make sure the agent function receives as the percept the board and returns a valid action. Use an agent function definition with the following signature (arguments):\n",
    "\n",
    "`def random_player(board, player = None): ...`\n",
    "\n",
    "The argument `player` is used for agents that do not store what side they are playing. The value passed on by the environment should be 1 ot -1 for playerred and yellow, respectively.  See [Experiments section for tic-tac-toe](https://nbviewer.org/github/mhahsler/CS7320-AI/blob/master/Games/tictactoe_and_or_tree_search.ipynb#Experiments) for an example."
   ]
  },
  {
   "cell_type": "code",
   "execution_count": 133,
   "metadata": {},
   "outputs": [],
   "source": [
    "# Your code/ answer goes here.\n",
    "# agent that plays randomly\n",
    "def random_player(board, player=None):\n",
    "    \"\"\"\n",
    "    Return a random move.\n",
    "    \"\"\"\n",
    "    moves = actions(board)\n",
    "    move = moves[np.random.randint(len(moves))]\n",
    "    move = (move[0], move[1], move[2])\n",
    "    return {'move': move}"
   ]
  },
  {
   "cell_type": "markdown",
   "metadata": {},
   "source": [
    "Let two random agents play against each other 1000 times. Look at the [Experiments section for tic-tac-toe](https://nbviewer.org/github/mhahsler/CS7320-AI/blob/master/Games/tictactoe_and_or_tree_search.ipynb#Experiments) to see how the environment uses the agent functions to play against each other.\n",
    "\n",
    "How often does each player win? Is the result expected?"
   ]
  },
  {
   "cell_type": "code",
   "execution_count": 202,
   "metadata": {
    "tags": []
   },
   "outputs": [],
   "source": [
    "# Your code/ answer goes here.\n",
    "# switch players\n",
    "def switch_player(number, a1, a2):\n",
    "    if number == 1:\n",
    "        return -1, a2\n",
    "    else:\n",
    "        return 1, a1\n",
    "# play a game between two agents\n",
    "def play_game(state, agent1, agent2):\n",
    "    \"\"\"\n",
    "    Play a game between two agents by alternately soliciting them\n",
    "    to select a move and applying it in the game.\n",
    "    \"\"\"\n",
    "    # state = empty_board(3, 3)\n",
    "    player, fun = 1, agent1\n",
    "    while not terminal(state):\n",
    "        # show_board(state)\n",
    "        move = fun(state, player)\n",
    "        a = move['move']\n",
    "        state = result(state, player, a)\n",
    "        player, fun = switch_player(player, agent1, agent2)\n",
    "    return state"
   ]
  },
  {
   "cell_type": "code",
   "execution_count": 348,
   "metadata": {},
   "outputs": [
    {
     "name": "stdout",
     "output_type": "stream",
     "text": [
      "Number of wins after 1000 games:\n",
      "p1 wins: 353\n",
      "p-1 wins: 647\n"
     ]
    }
   ],
   "source": [
    "p1_wins = 0\n",
    "p2_wins = 0\n",
    "for i in range(1000):\n",
    "    board = empty_board()\n",
    "    b = play_game(board, random_player, random_player)\n",
    "    if b['score1'] > b['score-1']:\n",
    "        p1_wins += 1\n",
    "    elif b['score1'] < b['score-1']:\n",
    "        p2_wins += 1\n",
    "    else:\n",
    "        p1_wins += 0.5\n",
    "        p2_wins += 0.5\n",
    "print('Number of wins after 1000 games:')\n",
    "print('p1 wins:', p1_wins)\n",
    "print('p-1 wins:', p2_wins)"
   ]
  },
  {
   "cell_type": "markdown",
   "metadata": {},
   "source": [
    "## Task 3: Minimax Search with Alpha-Beta Pruning [30 points]\n",
    "\n",
    "### Implement the search starting.\n",
    "\n",
    "Implement the search starting from a given board and specifying the player and put it into an agent function.\n",
    "You can use code from the [tic-tac-toe example](https://nbviewer.org/github/mhahsler/CS7320-AI/blob/master/Games/tictactoe_alpha_beta_tree_search.ipynb).\n",
    "\n",
    "__Notes:__ \n",
    "* Make sure that all your agent functions have a signature consistent with the random agent above.\n",
    "* The search space for larger board may be too large. You can experiment with smaller boards."
   ]
  },
  {
   "cell_type": "code",
   "execution_count": 406,
   "metadata": {},
   "outputs": [],
   "source": [
    "def alpha_beta_search(board, player=1):\n",
    "    board = board.copy()\n",
    "    value, move = max_value(board, player, -np.inf, np.inf)\n",
    "    return {'move': move, 'value': value}\n",
    "\n",
    "def max_value(state, player, alpha, beta, last_move = None):\n",
    "    if terminal(state):\n",
    "        return utility(state, player), None\n",
    "    v = -np.inf\n",
    "    move = None\n",
    "    # check to see if previous action closed a box\n",
    "    if check_closed(state, last_move):\n",
    "        v2, a2 = min_value(state, player, alpha, beta, None)\n",
    "        if v2 > v:\n",
    "            v = v2\n",
    "            move = None\n",
    "        if v >= beta:\n",
    "            return v, move\n",
    "        alpha = max(alpha, v)\n",
    "    else:\n",
    "        for a in actions(state):\n",
    "            v2, a2= min_value(result(state, player, a), player, alpha, beta, a)\n",
    "            if v2 > v:\n",
    "                v = v2\n",
    "                move = a\n",
    "                alpha = max(alpha, v)\n",
    "            if v >= beta:\n",
    "                return v, move\n",
    "            alpha = max(alpha, v)\n",
    "    return v, move\n",
    "\n",
    "def min_value(state, player, alpha, beta, last_move = None):\n",
    "    if terminal(state):\n",
    "        return utility(state, player), None\n",
    "    \n",
    "    v = np.inf\n",
    "    move = None\n",
    "\n",
    "    if check_closed(state, last_move): # check to see if previous action closed a box\n",
    "        v2, a2 = max_value(state, player, alpha, beta, None)\n",
    "        if v2 < v:\n",
    "            v = v2\n",
    "            move = None\n",
    "        if v <= alpha:\n",
    "            return v, move\n",
    "        beta = min(beta, v)\n",
    "    else:\n",
    "        for a in actions(state):\n",
    "            v2, a2 = max_value(result(state, other(player), a), player, alpha, beta, a)\n",
    "            if v2 < v:\n",
    "                v = v2\n",
    "                move = a\n",
    "                beta = min(beta, v)\n",
    "            if v <= alpha:\n",
    "                return v, move\n",
    "            beta = min(beta, v)\n",
    "    return v, move"
   ]
  },
  {
   "cell_type": "code",
   "execution_count": 292,
   "metadata": {},
   "outputs": [],
   "source": [
    "def other(player):\n",
    "    \"\"\"\n",
    "    Returns the opponent of a player.\n",
    "    \"\"\"\n",
    "    if player == 1:\n",
    "        return -1\n",
    "    else:\n",
    "        return 1"
   ]
  },
  {
   "cell_type": "markdown",
   "metadata": {},
   "source": [
    "Experiment with some manually created boards (at least 5) to check if the agent spots winning opportunities."
   ]
  },
  {
   "cell_type": "code",
   "execution_count": 349,
   "metadata": {},
   "outputs": [
    {
     "data": {
      "image/png": "[encoded data removed]",
      "text/plain": [
       "<Figure size 432x288 with 1 Axes>"
      ]
     },
     "metadata": {
      "needs_background": "light"
     },
     "output_type": "display_data"
    },
    {
     "data": {
      "text/plain": [
       "{'move': ('v', 2, 2), 'value': 1}"
      ]
     },
     "execution_count": 349,
     "metadata": {},
     "output_type": "execute_result"
    }
   ],
   "source": [
    "b = empty_board(3,3)\n",
    "draw_line(b, \"v\", 1, 1, 1)\n",
    "draw_line(b, \"v\", 1, 2, -1)\n",
    "draw_line(b, \"v\", 1, 3, 1)\n",
    "draw_line(b, \"h\", 1, 2, 1)\n",
    "draw_line(b, \"h\", 2, 2, 1)\n",
    "draw_line(b, \"v\", 2, 3, 1)\n",
    "draw_line(b, \"v\", 2, 1, 1)\n",
    "draw_line(b, \"h\", 2, 1, -1)\n",
    "draw_line(b, \"h\", 3, 1, 1)\n",
    "show_board(b)\n",
    "alpha_beta_search(b, -1)"
   ]
  },
  {
   "cell_type": "code",
   "execution_count": 352,
   "metadata": {},
   "outputs": [
    {
     "data": {
      "image/png": "[encoded data removed]",
      "text/plain": [
       "<Figure size 432x288 with 1 Axes>"
      ]
     },
     "metadata": {
      "needs_background": "light"
     },
     "output_type": "display_data"
    },
    {
     "data": {
      "text/plain": [
       "{'move': ('v', 1, 2), 'value': 1}"
      ]
     },
     "execution_count": 352,
     "metadata": {},
     "output_type": "execute_result"
    }
   ],
   "source": [
    "b = empty_board(3,3)\n",
    "draw_line(b, \"v\", 1, 1, 1)\n",
    "draw_line(b, 'h', 1, 1, -1)\n",
    "draw_line(b, 'h', 1, 2, 1)\n",
    "draw_line(b, 'h', 2, 1, -1)\n",
    "draw_line(b, 'h', 2, 2, 1)\n",
    "draw_line(b, 'v', 1, 3, 1)\n",
    "\n",
    "show_board(b)\n",
    "alpha_beta_search(b, 1)"
   ]
  },
  {
   "cell_type": "code",
   "execution_count": 355,
   "metadata": {},
   "outputs": [
    {
     "data": {
      "image/png": "[encoded data removed]",
      "text/plain": [
       "<Figure size 432x288 with 1 Axes>"
      ]
     },
     "metadata": {
      "needs_background": "light"
     },
     "output_type": "display_data"
    },
    {
     "data": {
      "text/plain": [
       "{'move': ('h', 1, 1), 'value': -1}"
      ]
     },
     "execution_count": 355,
     "metadata": {},
     "output_type": "execute_result"
    }
   ],
   "source": [
    "b = empty_board(3,3)\n",
    "\n",
    "draw_line(b, 'v', 2, 1, -1)\n",
    "draw_line(b, 'h', 3, 1, 1)\n",
    "draw_line(b, 'v', 2, 2, -1)\n",
    "draw_line(b, 'h', 2, 1, 1)\n",
    "draw_line(b, 'h', 1, 2, -1)\n",
    "draw_line(b, 'h', 2, 2, 1)\n",
    "draw_line(b, 'v', 1, 2, -1)\n",
    "draw_line(b, 'v', 1, 3, 1)\n",
    "\n",
    "show_board(b)\n",
    "alpha_beta_search(b, -1)"
   ]
  },
  {
   "cell_type": "code",
   "execution_count": 358,
   "metadata": {},
   "outputs": [
    {
     "data": {
      "image/png": "[encoded data removed]",
      "text/plain": [
       "<Figure size 432x288 with 1 Axes>"
      ]
     },
     "metadata": {
      "needs_background": "light"
     },
     "output_type": "display_data"
    },
    {
     "data": {
      "text/plain": [
       "{'move': ('h', 1, 2), 'value': 0}"
      ]
     },
     "execution_count": 358,
     "metadata": {},
     "output_type": "execute_result"
    }
   ],
   "source": [
    "b = empty_board(3,3)\n",
    "draw_line(b, \"v\", 1, 1, 1)\n",
    "draw_line(b, \"v\", 1, 2, -1)\n",
    "draw_line(b, 'h', 1, 1, 1)\n",
    "draw_line(b, 'h', 2, 1, -1)\n",
    "show_board(b)\n",
    "alpha_beta_search(b, 1)"
   ]
  },
  {
   "cell_type": "code",
   "execution_count": 335,
   "metadata": {},
   "outputs": [
    {
     "data": {
      "image/png": "[encoded data removed]",
      "text/plain": [
       "<Figure size 432x288 with 1 Axes>"
      ]
     },
     "metadata": {
      "needs_background": "light"
     },
     "output_type": "display_data"
    },
    {
     "data": {
      "text/plain": [
       "{'move': ('h', 1, 1), 'value': 0}"
      ]
     },
     "execution_count": 335,
     "metadata": {},
     "output_type": "execute_result"
    }
   ],
   "source": [
    "b = empty_board(3,3)\n",
    "show_board(b)\n",
    "alpha_beta_search(b, 1)"
   ]
  },
  {
   "cell_type": "markdown",
   "metadata": {},
   "source": [
    "How long does it take to make a move? Start with a smaller board make the board larger. What is the largest board you can solve?"
   ]
  },
  {
   "cell_type": "markdown",
   "metadata": {},
   "source": [
    "It doesn't take very long to make a move if there aren't that many possible moves left. The size of the board doesn't matter as much meaning i could have a 5x5 board but if it is filled out except for 3 available moves it won't take long."
   ]
  },
  {
   "cell_type": "code",
   "execution_count": 359,
   "metadata": {},
   "outputs": [
    {
     "data": {
      "image/png": "[encoded data removed]",
      "text/plain": [
       "<Figure size 432x288 with 1 Axes>"
      ]
     },
     "metadata": {
      "needs_background": "light"
     },
     "output_type": "display_data"
    },
    {
     "name": "stdout",
     "output_type": "stream",
     "text": [
      "\n",
      "CPU times: user 164 µs, sys: 0 ns, total: 164 µs\n",
      "Wall time: 165 µs\n"
     ]
    },
    {
     "data": {
      "text/plain": [
       "{'move': ('h', 1, 1), 'value': -1}"
      ]
     },
     "execution_count": 359,
     "metadata": {},
     "output_type": "execute_result"
    }
   ],
   "source": [
    "# Your code/ answer goes here.\n",
    "b = empty_board(2,2)\n",
    "show_board(b)\n",
    "print()\n",
    "%time alpha_beta_search(b, 1)"
   ]
  },
  {
   "cell_type": "code",
   "execution_count": 360,
   "metadata": {},
   "outputs": [
    {
     "data": {
      "image/png": "[encoded data removed]",
      "text/plain": [
       "<Figure size 432x288 with 1 Axes>"
      ]
     },
     "metadata": {
      "needs_background": "light"
     },
     "output_type": "display_data"
    },
    {
     "name": "stdout",
     "output_type": "stream",
     "text": [
      "\n",
      "CPU times: user 8.34 s, sys: 66.9 ms, total: 8.41 s\n",
      "Wall time: 7.96 s\n"
     ]
    },
    {
     "data": {
      "text/plain": [
       "{'move': ('h', 1, 1), 'value': 0}"
      ]
     },
     "execution_count": 360,
     "metadata": {},
     "output_type": "execute_result"
    }
   ],
   "source": [
    "b = empty_board(3,3)\n",
    "show_board(b)\n",
    "print()\n",
    "%time alpha_beta_search(b, 1)"
   ]
  },
  {
   "cell_type": "code",
   "execution_count": null,
   "metadata": {},
   "outputs": [],
   "source": [
    "# 4x4 empty board takes too long\n",
    "b = empty_board()\n",
    "show_board(b)\n",
    "print()\n",
    "%time alpha_beta_search(b, 1)"
   ]
  },
  {
   "cell_type": "markdown",
   "metadata": {},
   "source": [
    "### Move ordering\n",
    "\n",
    "Starting the search with better moves will increase the efficiency of alpha-beta pruning. Describe and implement a simple move ordering strategy. Make a table that shows how the ordering strategies influence the time it takes to make a move?"
   ]
  },
  {
   "cell_type": "markdown",
   "metadata": {},
   "source": [
    "My move ordering strategy orders the moves by choosing the edge moves first then the rest. I also made a random ordering."
   ]
  },
  {
   "cell_type": "code",
   "execution_count": 112,
   "metadata": {},
   "outputs": [],
   "source": [
    "def ordering(board):\n",
    "    moves = actions(board)\n",
    "    ordered = []\n",
    "    for move in moves:\n",
    "        if move[0] == 'v' and (move[1] == 1 or move[1] == board['n']):\n",
    "            ordered.append(move)\n",
    "        if move[0] == 'h' and (move[1] == 1 or move[1] == board['m']):\n",
    "            ordered.append(move)\n",
    "    for move in moves:\n",
    "        if move not in ordered:\n",
    "            ordered.append(move)\n",
    "    return ordered\n"
   ]
  },
  {
   "cell_type": "code",
   "execution_count": 156,
   "metadata": {},
   "outputs": [],
   "source": [
    "import random\n",
    "def random_ordering(board):\n",
    "    moves = actions(board)\n",
    "    random.shuffle(moves)\n",
    "    return moves"
   ]
  },
  {
   "cell_type": "code",
   "execution_count": 374,
   "metadata": {},
   "outputs": [],
   "source": [
    "def alpha_beta_search_MO(board, player=1, order_fun=ordering):\n",
    "    board = board.copy()\n",
    "    value, move = max_value(board, player, -np.inf, np.inf, order_fun)\n",
    "    return {'move': move, 'value': value}\n",
    "\n",
    "def max_value(state, player, alpha, beta, order_fun, last_move = None):\n",
    "    if terminal(state):\n",
    "        return utility(state, player), None\n",
    "    v = -np.inf\n",
    "    move = None\n",
    "\n",
    "    if check_closed(state, last_move):\n",
    "        v2, a2 = min_value(state, player, alpha, beta, order_fun)\n",
    "        if v2 > v:\n",
    "            v = v2\n",
    "            move = None\n",
    "        if v >= beta:\n",
    "            return v, move\n",
    "        alpha = max(alpha, v)\n",
    "    else:\n",
    "        for a in actions(state):\n",
    "            v2, a2= min_value(result(state, player, a), player, alpha, beta, order_fun, a)\n",
    "            if v2 > v:\n",
    "                v = v2\n",
    "                move = a\n",
    "                alpha = max(alpha, v)\n",
    "            if v >= beta:\n",
    "                return v, move\n",
    "            alpha = max(alpha, v)\n",
    "    return v, move\n",
    "\n",
    "def min_value(state, player, alpha, beta, order_fun, last_move = None):\n",
    "    if terminal(state):\n",
    "        return utility(state, player), None\n",
    "    \n",
    "    v = np.inf\n",
    "    move = None\n",
    "\n",
    "    if check_closed(state, last_move):\n",
    "        v2, a2 = max_value(state, player, alpha, beta, order_fun)\n",
    "        if v2 < v:\n",
    "            v = v2\n",
    "            move = None\n",
    "        if v <= alpha:\n",
    "            return v, move\n",
    "        beta = min(beta, v)\n",
    "    else:\n",
    "        for a in actions(state):\n",
    "            v2, a2 = max_value(result(state, other(player), a), player, alpha, beta, order_fun, a)\n",
    "            if v2 < v:\n",
    "                v = v2\n",
    "                move = a\n",
    "                beta = min(beta, v)\n",
    "            if v <= alpha:\n",
    "                return v, move\n",
    "            beta = min(beta, v)\n",
    "    return v, move"
   ]
  },
  {
   "cell_type": "code",
   "execution_count": 370,
   "metadata": {},
   "outputs": [
    {
     "data": {
      "image/png": "[encoded data removed]",
      "text/plain": [
       "<Figure size 432x288 with 1 Axes>"
      ]
     },
     "metadata": {
      "needs_background": "light"
     },
     "output_type": "display_data"
    }
   ],
   "source": [
    "b = empty_board(3,3)\n",
    "draw_line(b, \"v\", 1, 1, 1)\n",
    "draw_line(b, 'h', 1, 1, -1)\n",
    "draw_line(b, 'h', 1, 2, 1)\n",
    "draw_line(b, 'h', 2, 1, -1)\n",
    "draw_line(b, 'h', 2, 2, 1)\n",
    "draw_line(b, 'v', 1, 3, 1)\n",
    "draw_line(b, 'v', 2, 1, -1)\n",
    "draw_line(b, 'v', 2, 2, 1)\n",
    "show_board(b)\n"
   ]
  },
  {
   "cell_type": "code",
   "execution_count": 377,
   "metadata": {},
   "outputs": [
    {
     "name": "stdout",
     "output_type": "stream",
     "text": [
      "\n",
      "CPU times: user 392 µs, sys: 2 µs, total: 394 µs\n",
      "Wall time: 396 µs\n"
     ]
    },
    {
     "data": {
      "text/plain": [
       "{'move': ('v', 1, 2), 'value': 1}"
      ]
     },
     "execution_count": 377,
     "metadata": {},
     "output_type": "execute_result"
    }
   ],
   "source": [
    "print()\n",
    "%time alpha_beta_search_MO(b, 1, random_ordering)"
   ]
  },
  {
   "cell_type": "code",
   "execution_count": 378,
   "metadata": {},
   "outputs": [
    {
     "name": "stdout",
     "output_type": "stream",
     "text": [
      "\n",
      "CPU times: user 389 µs, sys: 6 µs, total: 395 µs\n",
      "Wall time: 399 µs\n"
     ]
    },
    {
     "data": {
      "text/plain": [
       "{'move': ('v', 1, 2), 'value': 1}"
      ]
     },
     "execution_count": 378,
     "metadata": {},
     "output_type": "execute_result"
    }
   ],
   "source": [
    "print()\n",
    "%time alpha_beta_search_MO(b, 1, ordering)"
   ]
  },
  {
   "cell_type": "code",
   "execution_count": 379,
   "metadata": {},
   "outputs": [
    {
     "name": "stdout",
     "output_type": "stream",
     "text": [
      "\n",
      "CPU times: user 390 µs, sys: 8 µs, total: 398 µs\n",
      "Wall time: 401 µs\n"
     ]
    },
    {
     "data": {
      "text/plain": [
       "{'move': ('v', 1, 2), 'value': 1}"
      ]
     },
     "execution_count": 379,
     "metadata": {},
     "output_type": "execute_result"
    }
   ],
   "source": [
    "print()\n",
    "%time alpha_beta_search(b, 1)"
   ]
  },
  {
   "cell_type": "code",
   "execution_count": 380,
   "metadata": {},
   "outputs": [
    {
     "data": {
      "text/html": [
       "<div>\n",
       "<style scoped>\n",
       "    .dataframe tbody tr th:only-of-type {\n",
       "        vertical-align: middle;\n",
       "    }\n",
       "\n",
       "    .dataframe tbody tr th {\n",
       "        vertical-align: top;\n",
       "    }\n",
       "\n",
       "    .dataframe thead th {\n",
       "        text-align: right;\n",
       "    }\n",
       "</style>\n",
       "<table border=\"1\" class=\"dataframe\">\n",
       "  <thead>\n",
       "    <tr style=\"text-align: right;\">\n",
       "      <th></th>\n",
       "      <th>ordering</th>\n",
       "      <th>random_ordering</th>\n",
       "      <th>no_ordering</th>\n",
       "    </tr>\n",
       "  </thead>\n",
       "  <tbody>\n",
       "    <tr>\n",
       "      <th>0</th>\n",
       "      <td>396 us</td>\n",
       "      <td>399 us</td>\n",
       "      <td>401 us</td>\n",
       "    </tr>\n",
       "  </tbody>\n",
       "</table>\n",
       "</div>"
      ],
      "text/plain": [
       "  ordering random_ordering no_ordering\n",
       "0   396 us          399 us      401 us"
      ]
     },
     "execution_count": 380,
     "metadata": {},
     "output_type": "execute_result"
    }
   ],
   "source": [
    "import pandas as pd\n",
    "df = pd.DataFrame(columns=['ordering', 'random_ordering', 'no_ordering'])\n",
    "df.loc[0] = ['396 us', '399 us', '401 us']\n",
    "df"
   ]
  },
  {
   "cell_type": "markdown",
   "metadata": {},
   "source": [
    "### The first few moves\n",
    "\n",
    "Start with an empty board. This is the worst case scenario for minimax search with alpha-beta pruning since it needs solve all possible games that can be played (minus some pruning) before making the decision. What can you do? "
   ]
  },
  {
   "cell_type": "markdown",
   "metadata": {},
   "source": [
    "### Your code/ answer goes here.\n",
    "One possibility is you could fill out all the spaces in the board that don't create a 3/4ths of a box before you start the minimax with alpha-beta pruning. If you are playing a game you aren't going to draw the 3rd line of the box because that means your opponent will get a point next turn. If you skip through all this early game you will have a more filled out board where the minimax search can use it's strategy and not take forever to figure out a move. \n",
    "\n",
    "To do this you can make a pretty simple reflex agent: \n",
    "1.  it will check if there are any spaces to complete a box, if that's true it will do that move.\n",
    "2.  it will check for places where there are 3 out of the 4 boxes and avoid those spaces\n",
    "3. If there is an empty board it will choose a random space\n",
    "\n",
    "When you combine this with a minimax search, you would most likely use this agent for around the first 75% of moves allowing the search to take over so it won't take nearly as long of a time."
   ]
  },
  {
   "cell_type": "markdown",
   "metadata": {},
   "source": [
    "### Playtime\n",
    "\n",
    "Let the Minimax Search agent play a random agent on a small board. Analyze wins, losses and draws."
   ]
  },
  {
   "cell_type": "code",
   "execution_count": 412,
   "metadata": {},
   "outputs": [
    {
     "name": "stdout",
     "output_type": "stream",
     "text": [
      "Number of wins after 1000 games:\n",
      "p1 wins: 15.0\n",
      "p-1 wins: 85.0\n"
     ]
    }
   ],
   "source": [
    "# Your code/ answer goes here.\n",
    "p1_wins = 0\n",
    "p2_wins = 0\n",
    "for i in range(100):\n",
    "    board = empty_board(3,3)\n",
    "    b = play_game(board, random_player, alpha_beta_search)\n",
    "    if b['score1'] > b['score-1']:\n",
    "        p1_wins += 1\n",
    "    elif b['score1'] < b['score-1']:\n",
    "        p2_wins += 1\n",
    "    else:\n",
    "        p1_wins += 0.5\n",
    "        p2_wins += 0.5\n",
    "print('Number of wins after 100 games:')\n",
    "print('p1 wins:', p1_wins)\n",
    "print('p-1 wins:', p2_wins)"
   ]
  },
  {
   "cell_type": "markdown",
   "metadata": {},
   "source": [
    "After 100 games you can see the alpha_beta_search wins 85% of the time which is significantly better than a random player."
   ]
  },
  {
   "cell_type": "markdown",
   "metadata": {},
   "source": [
    "## Task 4: Heuristic Alpha-Beta Tree Search [30 points] \n",
    "\n",
    "### Heuristic evaluation function\n",
    "\n",
    "Define and implement a heuristic evaluation function."
   ]
  },
  {
   "cell_type": "code",
   "execution_count": 138,
   "metadata": {},
   "outputs": [],
   "source": [
    "# Your code/ answer goes here.\n",
    "# heurisitic based on number of moves to win\n",
    "def eval_func(board, player):\n",
    "    \"\"\"\n",
    "    Return a heuristic value for the current board.\n",
    "    \"\"\"\n",
    "    u = utility(board, player)\n",
    "    if u is not None: return u, True\n",
    "    size = board['n'] * board['m']\n",
    "    p = board['score{}'.format(player)]\n",
    "    other = board['score{}'.format(-player)]\n",
    "    score = (p - other) / size\n",
    "    return score, False"
   ]
  },
  {
   "cell_type": "markdown",
   "metadata": {},
   "source": [
    "### Cutting off search \n",
    "\n",
    "Modify your Minimax Search with Alpha-Beta Pruning to cut off search at a specified depth and use the heuristic evaluation function. Experiment with different cutoff values."
   ]
  },
  {
   "cell_type": "code",
   "execution_count": 405,
   "metadata": {},
   "outputs": [],
   "source": [
    "def alpha_beta_search_cutoff(board, player=1, cutoff=None):\n",
    "    board = board.copy()\n",
    "    value, move = max_value(board, player, -np.inf, np.inf, 0, cutoff)\n",
    "    return {'move': move, 'value': value}\n",
    "\n",
    "def max_value(state, player, alpha, beta, depth, cutoff, last_move = None):\n",
    "    v, terminal = eval_func(state, player)\n",
    "    if((cutoff is not None and depth >= cutoff) or terminal): \n",
    "        if(terminal): \n",
    "            alpha, beta = v, v\n",
    "        return v, None\n",
    "    v = -np.inf\n",
    "    move = None\n",
    "\n",
    "    if check_closed(state, last_move):\n",
    "        v2, a2 = min_value(state, player, alpha, beta, depth, cutoff)\n",
    "        if v2 > v:\n",
    "            v = v2\n",
    "            move = None\n",
    "        if v >= beta:\n",
    "            return v, move\n",
    "        alpha = max(alpha, v)\n",
    "    else:\n",
    "        for a in actions(state):\n",
    "            v2, a2= min_value(result(state, player, a), player, alpha, beta, depth+1, cutoff, a)\n",
    "            if v2 > v:\n",
    "                v = v2\n",
    "                move = a\n",
    "                alpha = max(alpha, v)\n",
    "            if v >= beta:\n",
    "                return v, move\n",
    "            alpha = max(alpha, v)\n",
    "    return v, move\n",
    "\n",
    "def min_value(state, player, alpha, beta, depth, cutoff, last_move = None):\n",
    "    v, terminal = eval_func(state, player)\n",
    "    if((cutoff is not None and depth >= cutoff) or terminal): \n",
    "        if(terminal): \n",
    "            alpha, beta = v, v\n",
    "        return v, None\n",
    "    \n",
    "    v = np.inf\n",
    "    move = None\n",
    "\n",
    "    if check_closed(state, last_move):\n",
    "        v2, a2 = max_value(state, player, alpha, beta, depth, cutoff)\n",
    "        if v2 < v:\n",
    "            v = v2\n",
    "            move = None\n",
    "        if v <= alpha:\n",
    "            return v, move\n",
    "        beta = min(beta, v)\n",
    "    else:\n",
    "        for a in actions(state):\n",
    "            v2, a2 = max_value(result(state, other(player), a), player, alpha, beta, depth+1, cutoff, a)\n",
    "            if v2 < v:\n",
    "                v = v2\n",
    "                move = a\n",
    "                beta = min(beta, v)\n",
    "            if v <= alpha:\n",
    "                return v, move\n",
    "            beta = min(beta, v)\n",
    "    return v, move"
   ]
  },
  {
   "cell_type": "markdown",
   "metadata": {},
   "source": [
    "Experiment with the same manually created boards as above to check if the agent spots winning opportunities."
   ]
  },
  {
   "cell_type": "code",
   "execution_count": 387,
   "metadata": {},
   "outputs": [
    {
     "data": {
      "image/png": "[encoded data removed]",
      "text/plain": [
       "<Figure size 432x288 with 1 Axes>"
      ]
     },
     "metadata": {
      "needs_background": "light"
     },
     "output_type": "display_data"
    },
    {
     "data": {
      "text/plain": [
       "{'move': ('v', 2, 2), 'value': 1}"
      ]
     },
     "execution_count": 387,
     "metadata": {},
     "output_type": "execute_result"
    }
   ],
   "source": [
    "# Your code/ answer goes here.\n",
    "b = empty_board(3,3)\n",
    "draw_line(b, \"v\", 1, 1, 1)\n",
    "draw_line(b, \"v\", 1, 2, -1)\n",
    "draw_line(b, \"v\", 1, 3, 1)\n",
    "draw_line(b, \"h\", 1, 2, 1)\n",
    "draw_line(b, \"h\", 2, 2, -1)\n",
    "draw_line(b, \"v\", 2, 3, 1)\n",
    "draw_line(b, \"v\", 2, 1, 1)\n",
    "draw_line(b, \"h\", 2, 1, -1)\n",
    "draw_line(b, \"h\", 3, 1, 1)\n",
    "show_board(b)\n",
    "alpha_beta_search_cutoff(b, 1, 3)"
   ]
  },
  {
   "cell_type": "code",
   "execution_count": 390,
   "metadata": {},
   "outputs": [
    {
     "data": {
      "image/png": "[encoded data removed]",
      "text/plain": [
       "<Figure size 432x288 with 1 Axes>"
      ]
     },
     "metadata": {
      "needs_background": "light"
     },
     "output_type": "display_data"
    },
    {
     "data": {
      "text/plain": [
       "{'move': ('v', 1, 2), 'value': 0.2222222222222222}"
      ]
     },
     "execution_count": 390,
     "metadata": {},
     "output_type": "execute_result"
    }
   ],
   "source": [
    "b = empty_board(3,3)\n",
    "draw_line(b, \"v\", 1, 1, 1)\n",
    "draw_line(b, 'h', 1, 1, -1)\n",
    "draw_line(b, 'h', 1, 2, 1)\n",
    "draw_line(b, 'h', 2, 1, -1)\n",
    "draw_line(b, 'h', 2, 2, 1)\n",
    "draw_line(b, 'v', 1, 3, 1)\n",
    "\n",
    "show_board(b)\n",
    "alpha_beta_search_cutoff(b, 1,3)"
   ]
  },
  {
   "cell_type": "code",
   "execution_count": 392,
   "metadata": {},
   "outputs": [
    {
     "data": {
      "image/png": "[encoded data removed]",
      "text/plain": [
       "<Figure size 432x288 with 1 Axes>"
      ]
     },
     "metadata": {
      "needs_background": "light"
     },
     "output_type": "display_data"
    },
    {
     "data": {
      "text/plain": [
       "{'move': ('h', 1, 1), 'value': -0.1111111111111111}"
      ]
     },
     "execution_count": 392,
     "metadata": {},
     "output_type": "execute_result"
    }
   ],
   "source": [
    "b = empty_board(3,3)\n",
    "\n",
    "draw_line(b, 'v', 2, 1, -1)\n",
    "draw_line(b, 'h', 3, 1, 1)\n",
    "draw_line(b, 'v', 2, 2, -1)\n",
    "draw_line(b, 'h', 2, 1, 1)\n",
    "draw_line(b, 'h', 1, 2, -1)\n",
    "draw_line(b, 'h', 2, 2, 1)\n",
    "draw_line(b, 'v', 1, 2, -1)\n",
    "draw_line(b, 'v', 1, 3, 1)\n",
    "\n",
    "show_board(b)\n",
    "alpha_beta_search_cutoff(b, -1, 3)"
   ]
  },
  {
   "cell_type": "code",
   "execution_count": 393,
   "metadata": {},
   "outputs": [
    {
     "data": {
      "image/png": "[encoded data removed]",
      "text/plain": [
       "<Figure size 432x288 with 1 Axes>"
      ]
     },
     "metadata": {
      "needs_background": "light"
     },
     "output_type": "display_data"
    },
    {
     "data": {
      "text/plain": [
       "{'move': ('h', 2, 2), 'value': 0.0}"
      ]
     },
     "execution_count": 393,
     "metadata": {},
     "output_type": "execute_result"
    }
   ],
   "source": [
    "b = empty_board(3,3)\n",
    "draw_line(b, \"v\", 1, 1, 1)\n",
    "draw_line(b, \"v\", 1, 2, -1)\n",
    "draw_line(b, 'h', 1, 1, 1)\n",
    "draw_line(b, 'h', 2, 1, -1)\n",
    "show_board(b)\n",
    "alpha_beta_search_cutoff(b, 1, 5)"
   ]
  },
  {
   "cell_type": "code",
   "execution_count": 394,
   "metadata": {},
   "outputs": [
    {
     "data": {
      "image/png": "[encoded data removed]",
      "text/plain": [
       "<Figure size 432x288 with 1 Axes>"
      ]
     },
     "metadata": {
      "needs_background": "light"
     },
     "output_type": "display_data"
    },
    {
     "data": {
      "text/plain": [
       "{'move': ('h', 1, 1), 'value': 0.0}"
      ]
     },
     "execution_count": 394,
     "metadata": {},
     "output_type": "execute_result"
    }
   ],
   "source": [
    "b = empty_board(3,3)\n",
    "show_board(b)\n",
    "alpha_beta_search_cutoff(b, 1, 5)"
   ]
  },
  {
   "cell_type": "markdown",
   "metadata": {},
   "source": [
    "How long does it take to make a move? Start with a smaller board with 4 columns and make the board larger by adding columns."
   ]
  },
  {
   "cell_type": "code",
   "execution_count": 398,
   "metadata": {},
   "outputs": [
    {
     "name": "stdout",
     "output_type": "stream",
     "text": [
      "\n",
      "4x4\n",
      "CPU times: user 95.8 ms, sys: 2 ms, total: 97.8 ms\n",
      "Wall time: 97.1 ms\n",
      "\n",
      "5x4\n",
      "CPU times: user 229 ms, sys: 2.62 ms, total: 231 ms\n",
      "Wall time: 231 ms\n",
      "\n",
      "6x4\n",
      "CPU times: user 467 ms, sys: 3.91 ms, total: 471 ms\n",
      "Wall time: 474 ms\n",
      "\n",
      "7x4\n",
      "CPU times: user 857 ms, sys: 8.22 ms, total: 865 ms\n",
      "Wall time: 872 ms\n",
      "\n",
      "8x4\n",
      "CPU times: user 1.44 s, sys: 12.3 ms, total: 1.45 s\n",
      "Wall time: 1.45 s\n",
      "\n",
      "9x4\n",
      "CPU times: user 2.29 s, sys: 19.3 ms, total: 2.31 s\n",
      "Wall time: 2.31 s\n",
      "\n",
      "10x4\n",
      "CPU times: user 3.48 s, sys: 32.1 ms, total: 3.51 s\n",
      "Wall time: 3.52 s\n"
     ]
    }
   ],
   "source": [
    "for i in range(4, 11):\n",
    "    b = empty_board(i,4)\n",
    "    print()\n",
    "    print('{}x4'.format(i))\n",
    "    %time alpha_beta_search_cutoff(b, 1, 5)"
   ]
  },
  {
   "cell_type": "markdown",
   "metadata": {},
   "source": [
    "### Playtime\n",
    "\n",
    "Let two heuristic search agents (different cutoff depth, different heuristic evaluation function) compete against each other on a reasonably sized board. Since there is no randomness, you only need to let them play once."
   ]
  },
  {
   "cell_type": "code",
   "execution_count": 399,
   "metadata": {},
   "outputs": [],
   "source": [
    "def heuristic1_player(board, player = 1):\n",
    "    return alpha_beta_search_cutoff(board, cutoff = 2, player = player)\n",
    "def heuristic2_player(board, player = 1):\n",
    "    return alpha_beta_search_cutoff(board, cutoff = 6, player = player)"
   ]
  },
  {
   "cell_type": "code",
   "execution_count": 402,
   "metadata": {},
   "outputs": [
    {
     "data": {
      "image/png": "[encoded data removed]",
      "text/plain": [
       "<Figure size 432x288 with 1 Axes>"
      ]
     },
     "metadata": {
      "needs_background": "light"
     },
     "output_type": "display_data"
    }
   ],
   "source": [
    "# Your code/ answer goes here.\n",
    "b = empty_board()\n",
    "game = play_game(b, heuristic1_player, heuristic2_player)\n",
    "show_board(game)"
   ]
  },
  {
   "cell_type": "markdown",
   "metadata": {},
   "source": [
    "## Tournament task [+1 to 5% bonus on your course grade; will be assigned separately]\n",
    "\n",
    "Find another student and let your best agent play against the other student's best player. You are allowed to use any improvements you like as long as you code it yourself. We will set up a class tournament on Canvas. This tournament will continue after the submission deadline."
   ]
  },
  {
   "cell_type": "markdown",
   "metadata": {},
   "source": [
    "## Graduate student advanced task: Pure Monte Carlo Search and Best First Move [10 point]\n",
    "\n",
    "__Undergraduate students:__ This is a bonus task you can attempt if you like [+5 Bonus point].\n",
    "\n",
    "### Pure Monte Carlo Search\n",
    "\n",
    "Implement Pure Monte Carlo Search (see [tic-tac-toe-example](https://nbviewer.org/github/mhahsler/CS7320-AI/blob/master/Games/tictactoe_pure_monte_carlo_search.ipynb)) and investigate how this search performs on the test boards that you have used above. "
   ]
  },
  {
   "cell_type": "code",
   "execution_count": 247,
   "metadata": {},
   "outputs": [
    {
     "name": "stdout",
     "output_type": "stream",
     "text": [
      "1\n",
      "-1\n",
      "-1\n",
      "-1\n"
     ]
    }
   ],
   "source": [
    "# Your code/ answer goes here.\n",
    "def playout(state, action, player = 1):\n",
    "    \"\"\"Perfrom a random playout starting with the given action on the fiven board \n",
    "    and return the utility of the finished game.\"\"\"\n",
    "    state = result(state, player, action)\n",
    "    current_player = other(player)\n",
    "    \n",
    "    while(True):\n",
    "        # reached terminal state?\n",
    "        u = utility(state, player)\n",
    "        if u is not None: \n",
    "            return u\n",
    "        \n",
    "        # we use a random playout policy\n",
    "        moves = actions(state)\n",
    "        i = np.random.choice(len(moves))\n",
    "        a = moves[i]\n",
    "        state = result(state, current_player, a)\n",
    "        #print(state)\n",
    "        \n",
    "        # switch between players\n",
    "        current_player = other(current_player)\n",
    "\n",
    "# playour for action of horizontal line at 1,1\n",
    "board = empty_board()\n",
    "print(playout(board, ('h', 1, 1)))\n",
    "print(playout(board, ('h', 1, 1)))\n",
    "print(playout(board, ('h', 1, 1)))\n",
    "print(playout(board, ('h', 1, 1),-1))"
   ]
  },
  {
   "cell_type": "code",
   "execution_count": 248,
   "metadata": {},
   "outputs": [],
   "source": [
    "def playouts(board, action, player = 1, N = 100):\n",
    "    \"\"\"Perform N playouts following the given action for the given board.\"\"\"\n",
    "    return [ playout(board, action, player) for i in range(N) ]"
   ]
  },
  {
   "cell_type": "code",
   "execution_count": 246,
   "metadata": {},
   "outputs": [],
   "source": [
    "import math\n",
    "DEBUG = 0\n",
    "def pmcs(board, N = 100, player = 1):\n",
    "    \"\"\"Pure Monte Carlo Search. Returns the action that has the largest average utility.\n",
    "    The N playouts are evenly divided between the possible actions.\"\"\"\n",
    "    global DEBUG\n",
    "    \n",
    "    acts = actions(board)\n",
    "    n = math.floor(N/len(acts))\n",
    "    if DEBUG >= 1: print(f\"Actions: {acts} ({n} playouts per action)\")\n",
    "    \n",
    "    ps = { i : np.mean(playouts(board, i, player, N = n)) for i in acts }\n",
    "    if DEBUG >= 1: display(ps)\n",
    "        \n",
    "    action = max(ps, key=ps.get)\n",
    "    return action"
   ]
  },
  {
   "cell_type": "code",
   "execution_count": 238,
   "metadata": {},
   "outputs": [
    {
     "name": "stdout",
     "output_type": "stream",
     "text": [
      "('h', 2, 2)\n",
      "CPU times: user 15.2 ms, sys: 5.06 ms, total: 20.2 ms\n",
      "Wall time: 18.5 ms\n",
      "\n",
      "('v', 1, 2)\n",
      "CPU times: user 141 ms, sys: 29 ms, total: 170 ms\n",
      "Wall time: 150 ms\n"
     ]
    }
   ],
   "source": [
    "board = empty_board(3,3)\n",
    "%time print(pmcs(board))\n",
    "\n",
    "print()\n",
    "%time print(pmcs(board, N = 1000))"
   ]
  },
  {
   "cell_type": "markdown",
   "metadata": {},
   "source": [
    "### Test boards"
   ]
  },
  {
   "cell_type": "code",
   "execution_count": 250,
   "metadata": {},
   "outputs": [
    {
     "data": {
      "image/png": "[encoded data removed]",
      "text/plain": [
       "<Figure size 432x288 with 1 Axes>"
      ]
     },
     "metadata": {
      "needs_background": "light"
     },
     "output_type": "display_data"
    },
    {
     "name": "stdout",
     "output_type": "stream",
     "text": [
      "('v', 1, 1)\n",
      "CPU times: user 14.3 ms, sys: 2.1 ms, total: 16.4 ms\n",
      "Wall time: 4.9 ms\n"
     ]
    }
   ],
   "source": [
    "b = empty_board(3,3)\n",
    "\n",
    "draw_line(b, 'v', 2, 1, -1)\n",
    "draw_line(b, 'h', 3, 1, 1)\n",
    "draw_line(b, 'v', 2, 2, -1)\n",
    "draw_line(b, 'h', 2, 1, 1)\n",
    "draw_line(b, 'h', 1, 2, -1)\n",
    "draw_line(b, 'h', 2, 2, 1)\n",
    "draw_line(b, 'v', 1, 2, -1)\n",
    "draw_line(b, 'v', 1, 3, 1)\n",
    "\n",
    "show_board(b)\n",
    "%time print(pmcs(b))"
   ]
  },
  {
   "cell_type": "code",
   "execution_count": 249,
   "metadata": {},
   "outputs": [
    {
     "data": {
      "image/png": "[encoded data removed]",
      "text/plain": [
       "<Figure size 432x288 with 1 Axes>"
      ]
     },
     "metadata": {
      "needs_background": "light"
     },
     "output_type": "display_data"
    },
    {
     "name": "stdout",
     "output_type": "stream",
     "text": [
      "('h', 1, 1)\n",
      "CPU times: user 11.4 ms, sys: 824 µs, total: 12.2 ms\n",
      "Wall time: 3.51 ms\n"
     ]
    }
   ],
   "source": [
    "b = empty_board(3,3)\n",
    "draw_line(b, \"v\", 1, 1, 1)\n",
    "draw_line(b, \"v\", 1, 2, -1)\n",
    "draw_line(b, \"v\", 1, 3, 1)\n",
    "draw_line(b, \"h\", 1, 2, 1)\n",
    "draw_line(b, \"h\", 2, 2, -1)\n",
    "draw_line(b, \"v\", 2, 3, 1)\n",
    "draw_line(b, \"v\", 2, 1, 1)\n",
    "draw_line(b, \"h\", 2, 1, -1)\n",
    "draw_line(b, \"h\", 3, 1, 1)\n",
    "show_board(b)\n",
    "%time print(pmcs(b))"
   ]
  },
  {
   "cell_type": "code",
   "execution_count": 251,
   "metadata": {},
   "outputs": [
    {
     "name": "stdout",
     "output_type": "stream",
     "text": [
      "('v', 2, 2)\n",
      "CPU times: user 14.9 ms, sys: 4.94 ms, total: 19.8 ms\n",
      "Wall time: 16.2 ms\n"
     ]
    }
   ],
   "source": [
    "b = empty_board(3,3)\n",
    "%time print(pmcs(b))"
   ]
  },
  {
   "cell_type": "markdown",
   "metadata": {},
   "source": [
    "#### Summing it up\n",
    "The PMCS algorithm gives the best move in all the tests. Also it is extremely quick giving me a move for an empty 3x3 board way faster than alpha beta pruning search. "
   ]
  },
  {
   "cell_type": "markdown",
   "metadata": {},
   "source": [
    "### Best First Move\n",
    "\n",
    "How would you determine what the best first move for a standard board ($5 \\times 5$) is? You can use Pure Monte Carlo Search or any algorithms that you have implemented above."
   ]
  },
  {
   "cell_type": "markdown",
   "metadata": {},
   "source": [
    "### Your code/ answer goes here.\n",
    "To figure out the best first move for a 5x5 board. I'll run playouts for each possible first move. I'll use Pure monte carlo search algorithm to find the one with the best average utility.\n",
    "\n",
    "The monte carlo search with 50,000 playours determined that the best first move for a 5x5 board is ('v', 1, 2)"
   ]
  },
  {
   "cell_type": "code",
   "execution_count": 254,
   "metadata": {},
   "outputs": [
    {
     "name": "stdout",
     "output_type": "stream",
     "text": [
      "('v', 3, 4)\n",
      "CPU times: user 1.17 s, sys: 30.6 ms, total: 1.2 s\n",
      "Wall time: 1.18 s\n"
     ]
    }
   ],
   "source": [
    "b = empty_board(5,5)\n",
    "%time print(pmcs(b, N = 1000))"
   ]
  },
  {
   "cell_type": "code",
   "execution_count": 257,
   "metadata": {},
   "outputs": [
    {
     "name": "stdout",
     "output_type": "stream",
     "text": [
      "('v', 4, 2)\n",
      "CPU times: user 11.4 s, sys: 74.1 ms, total: 11.5 s\n",
      "Wall time: 11.5 s\n"
     ]
    }
   ],
   "source": [
    "b = empty_board(5,5)\n",
    "%time print(pmcs(b, N = 10000))"
   ]
  },
  {
   "cell_type": "code",
   "execution_count": 258,
   "metadata": {},
   "outputs": [
    {
     "name": "stdout",
     "output_type": "stream",
     "text": [
      "('v', 1, 2)\n",
      "CPU times: user 57.5 s, sys: 462 ms, total: 58 s\n",
      "Wall time: 57.8 s\n"
     ]
    }
   ],
   "source": [
    "b = empty_board(5,5)\n",
    "%time print(pmcs(b, N = 50000))"
   ]
  }
 ],
 "metadata": {
  "kernelspec": {
   "display_name": "Python 3 (ipykernel)",
   "language": "python",
   "name": "python3"
  },
  "language_info": {
   "codemirror_mode": {
    "name": "ipython",
    "version": 3
   },
   "file_extension": ".py",
   "mimetype": "text/x-python",
   "name": "python",
   "nbconvert_exporter": "python",
   "pygments_lexer": "ipython3",
   "version": "3.9.12"
  }
 },
 "nbformat": 4,
 "nbformat_minor": 4
}
