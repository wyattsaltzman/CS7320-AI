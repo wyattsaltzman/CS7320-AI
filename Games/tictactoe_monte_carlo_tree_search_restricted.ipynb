{
 "cells": [
  {
   "cell_type": "markdown",
   "metadata": {},
   "source": [
    "# Adversarial Search: Solving Tic-Tac-Toe with Monte Carlo Tree Search"
   ]
  },
  {
   "cell_type": "markdown",
   "metadata": {},
   "source": [
    "## Introduction \n",
    "\n",
    "Multiplayer games can be implemented as:\n",
    "1. Nondeterministic actions: The opponent is seen as part of an environment with nondeterministic actions. Non-determinism is the result of the unknown opponent's moves. \n",
    "2. Optimal Decisions: Minimax search (search complete game tree) and alpha-beta pruning.\n",
    "3. Heuristic Alpha-Beta Tree Search: Cut off tree search and use heuristic to estimate state value. \n",
    "4. __Monte Carlo Search:__ Simulate playouts to estimate state value. \n",
    "\n",
    "Here we will implement search for Tic-Tac-Toe (see [rules](https://en.wikipedia.org/wiki/Tic-tac-toe)). The game is a __zero-sum game__: Win by x results in +1, win by o in -1 and a tie has a value of 0. Max plays x and tries to maximize the outcome while Min plays o and tries to minimize the outcome.   \n",
    "\n",
    "We will implement\n",
    "* We enhance Pure Monte Carlo Search by using the upper confidence bound (UCB1) selection policy. That is, we use UCB1 to determine for which action to perform the next playout. This will allow the algorithm to focus on actions here it needs to collect more information. Note that complete Upper Confidence Bounds applied to Trees (UCT) creates a tree and the expand step in the code needs to be added. The tree branch for the chosen move is preserved and used for future moves."
   ]
  },
  {
   "cell_type": "markdown",
   "metadata": {},
   "source": [
    "## The board\n",
    "\n",
    "I represent the board as a vector of length 9. The values are `' ', 'x', 'o'`.  "
   ]
  },
  {
   "cell_type": "code",
   "execution_count": 1,
   "metadata": {},
   "outputs": [],
   "source": [
    "import numpy as np\n",
    "import math"
   ]
  },
  {
   "cell_type": "code",
   "execution_count": 2,
   "metadata": {},
   "outputs": [],
   "source": [
    "def empty_board():\n",
    "    return [' '] * 9"
   ]
  },
  {
   "cell_type": "markdown",
   "metadata": {},
   "source": [
    "Some helper functions."
   ]
  },
  {
   "cell_type": "code",
   "execution_count": 3,
   "metadata": {},
   "outputs": [],
   "source": [
    "%matplotlib inline\n",
    "%config InlineBackend.figure_format = 'retina'\n",
    "# use higher resolution images in notebook\n",
    "\n",
    "import numpy as np\n",
    "import matplotlib.pyplot as plt\n",
    "from matplotlib.colors import ListedColormap\n",
    "\n",
    "\n",
    "def show_board(board, help = True, dpi = 40, colors = {' ': 'white', 'x': 'red', 'o': 'black'}):\n",
    "    \"\"\"Show the tic-tac-toe-board. help adds the array index, dpi changes the sice and \n",
    "    colors sets the colors\"\"\"\n",
    "    \n",
    "    b = np.array(board).reshape((3,3))\n",
    "\n",
    "    with plt.rc_context({'figure.dpi': dpi}):\n",
    "        fig = plt.matshow(np.zeros((3, 3)), cmap = ListedColormap(['w']))\n",
    "    fig.axes.axis('off')\n",
    "    \n",
    "    plt.hlines([.5, 1.5], -.5, 2.5)\n",
    "    plt.vlines([.5, 1.5], -.5, 2.5)\n",
    "\n",
    "    for row in range(3):\n",
    "        for col in range(3):\n",
    "            plt.text(row, col, b[col, row], \n",
    "                 fontsize = 64, \n",
    "                 color = colors[b[col, row]],\n",
    "                 horizontalalignment = 'center',\n",
    "                 verticalalignment = 'center')\n",
    "        \n",
    "    if help:\n",
    "        for row in range(3):\n",
    "            for col in range(3):\n",
    "                plt.text(col, row - .35, col + 3 * row, \n",
    "                     fontsize = 12, \n",
    "                     color = 'gray',\n",
    "                     horizontalalignment = 'center',\n",
    "                     verticalalignment = 'center')\n",
    "        \n",
    "        \n",
    "    plt.show()"
   ]
  },
  {
   "cell_type": "code",
   "execution_count": 4,
   "metadata": {},
   "outputs": [],
   "source": [
    "def check_win(board):\n",
    "    \"\"\"check the board and return one of x, o, d (draw), or n (for next move)\"\"\"\n",
    "    \n",
    "    board = np.array(board).reshape((3,3))\n",
    "    \n",
    "    diagonals = np.array([[board[i][i] for i in range(len(board))], \n",
    "                          [board[i][len(board)-i-1] for i in range(len(board))]])\n",
    "    \n",
    "    for a_board in [board, np.transpose(board), diagonals]:\n",
    "        for row in a_board:\n",
    "            if len(set(row)) == 1 and row[0] != ' ':\n",
    "                return row[0]\n",
    "    \n",
    "    # check for draw\n",
    "    if(np.sum(board == ' ') < 1):\n",
    "        return 'd'\n",
    "    \n",
    "    return 'n'"
   ]
  },
  {
   "cell_type": "code",
   "execution_count": 5,
   "metadata": {},
   "outputs": [],
   "source": [
    "def actions(board):\n",
    "    \"\"\"return possible actions as a vector ot indices\"\"\"\n",
    "    return np.where(np.array(board) == ' ')[0].tolist()\n",
    "\n",
    "    # randomize the action order\n",
    "    #actions = np.where(np.array(board) == ' ')[0]\n",
    "    #np.random.shuffle(actions)\n",
    "    #return actions.tolist()"
   ]
  },
  {
   "cell_type": "code",
   "execution_count": 6,
   "metadata": {},
   "outputs": [],
   "source": [
    "def result(state, player, action):\n",
    "    \"\"\"Add move to the board.\"\"\"\n",
    "    \n",
    "    state = state.copy()\n",
    "    state[action] = player\n",
    "  \n",
    "    return state"
   ]
  },
  {
   "cell_type": "code",
   "execution_count": 7,
   "metadata": {},
   "outputs": [],
   "source": [
    "def other(player): \n",
    "    if player == 'x': return 'o'\n",
    "    else: return 'x'"
   ]
  },
  {
   "cell_type": "code",
   "execution_count": 8,
   "metadata": {},
   "outputs": [],
   "source": [
    "def utility(state, player = 'x'):\n",
    "    \"\"\"check is a state is terminal and return the utility if it is. None means not a terminal mode.\"\"\"\n",
    "    goal = check_win(state)        \n",
    "    if goal == player: return +1         # win\n",
    "    if goal == 'd': return 0             # draw\n",
    "    if goal == other(player): return -1  # loss\n",
    "    return None                          # utility is not defined "
   ]
  },
  {
   "cell_type": "markdown",
   "metadata": {},
   "source": [
    "# Monte Carlo Search with Upper Confidence Bound\n",
    "\n",
    "See AIMA page 163. \n",
    "\n",
    "We enhance pure Monte Carlo Search by using UCB1 as a __selection policy__. This can be seen as a \n",
    "restricted version of UTC: \n",
    "* Only build a tree of depth 1 and use the UBC1 selection policy.\n",
    "* Use a random playout policy.\n",
    "\n",
    "\n",
    "__Note on the playout policy:__ We use here a random playout policy, which ends up creating just a randomized search that works fine for this toy problem. For real applications you need to extend the code with a good __playout policy__ (e.g., manually created heuristics or a neural [network learned by self-play using reinforcement learning](https://towardsdatascience.com/how-to-teach-an-ai-to-play-games-deep-reinforcement-learning-28f9b920440a))."
   ]
  },
  {
   "cell_type": "markdown",
   "metadata": {},
   "source": [
    "## Simulate playouts"
   ]
  },
  {
   "cell_type": "code",
   "execution_count": 9,
   "metadata": {},
   "outputs": [
    {
     "name": "stdout",
     "output_type": "stream",
     "text": [
      "-1\n",
      "1\n",
      "1\n"
     ]
    }
   ],
   "source": [
    "def playout(state, action, player = 'x'):\n",
    "    \"\"\"Perfrom a random playout starting with the given action on the fiven board \n",
    "    and return the utility of the finished game.\"\"\"\n",
    "    state = result(state, player, action)\n",
    "    current_player = other(player)\n",
    "    \n",
    "    while(True):\n",
    "        # reached terminal state?\n",
    "        u = utility(state, player)\n",
    "        if u is not None: \n",
    "            return u\n",
    "        \n",
    "        # we use a random playout policy\n",
    "        a = np.random.choice(actions(state))\n",
    "        state = result(state, current_player, a)\n",
    "        #print(state)\n",
    "        \n",
    "        # switch between players\n",
    "        current_player = other(current_player)\n",
    "\n",
    "\n",
    "board = empty_board()\n",
    "print(playout(board, 0))\n",
    "print(playout(board, 0))\n",
    "print(playout(board, 0))"
   ]
  },
  {
   "cell_type": "markdown",
   "metadata": {},
   "source": [
    "## Upper Confidence Bound Applied to Trees (Restricted to Depth 1)"
   ]
  },
  {
   "cell_type": "code",
   "execution_count": 10,
   "metadata": {},
   "outputs": [],
   "source": [
    "import pandas as pd\n",
    "\n",
    "DEBUG = 1\n",
    "\n",
    "def UCT_depth1(board, N = 100, player = 'x'):\n",
    "    \"\"\"Upper Confidence bound applied to Trees for limited tree depth of 1. \n",
    "    Simulation budget is N playouts.\"\"\"\n",
    "    global DEBUG\n",
    "    \n",
    "    C = math.sqrt(2) # tradeoff constant\n",
    "    \n",
    "    # the tree is 1 action deep\n",
    "    acts = actions(board)\n",
    "    \n",
    "    u = [0] * len(acts) # total utility through actions\n",
    "    n = [0] * len(acts) # number of playouts through actions\n",
    "    n_parent = 0 # total playouts so far (i.e., number of playouts through parent)\n",
    "    \n",
    "    # make sure we try each action once\n",
    "    UCB1 = [+math.inf] * len(acts) \n",
    "    \n",
    "    for i in range(N):\n",
    "\n",
    "        # Select\n",
    "        action_id = UCB1.index(max(UCB1))\n",
    "    \n",
    "        # Expand\n",
    "        # UTC would expand the tree. We keep the tree at depth 1, essentially performing\n",
    "        # Pure Monte Carlo search with an added UCB1 selection policy. \n",
    "        \n",
    "        # Simulate\n",
    "        p = playout(board, acts[action_id], player = player)\n",
    "    \n",
    "        # Back-Propagate (i.e., update counts and UCB1)\n",
    "        u[action_id] += p\n",
    "        n[action_id] += 1\n",
    "        n_parent += 1\n",
    "        \n",
    "        for action_id in range(len(acts)):\n",
    "            if n[action_id] > 0:\n",
    "                UCB1[action_id] = u[action_id] / n[action_id] + C * math.sqrt(math.log(n_parent) / n[action_id])\n",
    "    \n",
    "    # return action with largest number of playouts \n",
    "    action = acts[n.index(max(n))]\n",
    "    \n",
    "    if DEBUG >= 1: \n",
    "        print(pd.DataFrame({'action':acts, \n",
    "                            'total utility':u, \n",
    "                            '# of playouts':n, \n",
    "                            'UCB1':UCB1}))\n",
    "        print()\n",
    "        print(f\"Best action: {action}\")\n",
    "    \n",
    "    \n",
    "    return action"
   ]
  },
  {
   "cell_type": "code",
   "execution_count": 11,
   "metadata": {},
   "outputs": [
    {
     "data": {
      "text/plain": [
       "[' ', ' ', ' ', ' ', ' ', ' ', ' ', ' ', ' ']"
      ]
     },
     "metadata": {},
     "output_type": "display_data"
    },
    {
     "name": "stdout",
     "output_type": "stream",
     "text": [
      "   action  total utility  # of playouts      UCB1\n",
      "0       0             34             96  0.733523\n",
      "1       1              8             50  0.685652\n",
      "2       2             62            151  0.713075\n",
      "3       3             -1             25  0.703384\n",
      "4       4             41            114  0.707771\n",
      "5       5             33             98  0.712201\n",
      "6       6            109            234  0.708795\n",
      "7       7             -3             21  0.668242\n",
      "8       8             95            211  0.706120\n",
      "\n",
      "Best action: 6\n",
      "667 ms ± 0 ns per loop (mean ± std. dev. of 1 run, 1 loop each)\n"
     ]
    }
   ],
   "source": [
    "board = empty_board()\n",
    "display(board)\n",
    "\n",
    "%timeit -n 1 -r 1 UCT_depth1(board, N = 1000)"
   ]
  },
  {
   "cell_type": "markdown",
   "metadata": {},
   "source": [
    "## Some Tests\n",
    "\n",
    "### x is about to win (play 8)"
   ]
  },
  {
   "cell_type": "code",
   "execution_count": 12,
   "metadata": {},
   "outputs": [
    {
     "name": "stdout",
     "output_type": "stream",
     "text": [
      "Board:\n"
     ]
    },
    {
     "data": {
      "image/png": "[encoded data removed]",
      "text/plain": [
       "<Figure size 160x160 with 1 Axes>"
      ]
     },
     "metadata": {
      "image/png": {
       "height": 132,
       "width": 132
      },
      "needs_background": "light"
     },
     "output_type": "display_data"
    },
    {
     "name": "stdout",
     "output_type": "stream",
     "text": [
      "\n",
      "   action  total utility  # of playouts      UCB1\n",
      "0       2             18             22  1.465215\n",
      "1       5              6             11  1.460498\n",
      "2       6             22             25  1.486971\n",
      "3       7              2              7  1.432781\n",
      "4       8             35             35  1.512984\n",
      "\n",
      "Best action: 8\n",
      "26.7 ms ± 0 ns per loop (mean ± std. dev. of 1 run, 1 loop each)\n"
     ]
    }
   ],
   "source": [
    "board = empty_board() \n",
    "board[0] = 'x'\n",
    "board[1] = 'o'\n",
    "board[3] = 'o'\n",
    "board[4] = 'x'\n",
    "\n",
    "print(\"Board:\")\n",
    "show_board(board)\n",
    "\n",
    "print()\n",
    "%timeit -n1 -r1 UCT_depth1(board)"
   ]
  },
  {
   "cell_type": "markdown",
   "metadata": {},
   "source": [
    "### o is about to win"
   ]
  },
  {
   "cell_type": "code",
   "execution_count": 13,
   "metadata": {},
   "outputs": [
    {
     "name": "stdout",
     "output_type": "stream",
     "text": [
      "Board:\n"
     ]
    },
    {
     "data": {
      "image/png": "[encoded data removed]",
      "text/plain": [
       "<Figure size 160x160 with 1 Axes>"
      ]
     },
     "metadata": {
      "image/png": {
       "height": 132,
       "width": 132
      },
      "needs_background": "light"
     },
     "output_type": "display_data"
    },
    {
     "name": "stdout",
     "output_type": "stream",
     "text": [
      "\n",
      "   action  total utility  # of playouts      UCB1\n",
      "0       2             18            660  0.171954\n",
      "1       5            -13             19  0.168510\n",
      "2       6            -14            304  0.167127\n",
      "3       7            -13             17  0.136780\n",
      "\n",
      "Best action: 2\n",
      "202 ms ± 0 ns per loop (mean ± std. dev. of 1 run, 1 loop each)\n"
     ]
    }
   ],
   "source": [
    "board = empty_board() \n",
    "board[0] = 'o'\n",
    "board[1] = 'o'\n",
    "board[3] = 'o'\n",
    "board[4] = 'x'\n",
    "board[8] = 'x'\n",
    "\n",
    "print(\"Board:\")\n",
    "show_board(board)\n",
    "\n",
    "print()\n",
    "%timeit -n1 -r1 UCT_depth1(board, N = 1000)"
   ]
  },
  {
   "cell_type": "markdown",
   "metadata": {},
   "source": [
    "### x can draw if it chooses 7"
   ]
  },
  {
   "cell_type": "code",
   "execution_count": 14,
   "metadata": {},
   "outputs": [
    {
     "name": "stdout",
     "output_type": "stream",
     "text": [
      "Board:\n"
     ]
    },
    {
     "data": {
      "image/png": "[encoded data removed]",
      "text/plain": [
       "<Figure size 160x160 with 1 Axes>"
      ]
     },
     "metadata": {
      "image/png": {
       "height": 132,
       "width": 132
      },
      "needs_background": "light"
     },
     "output_type": "display_data"
    },
    {
     "name": "stdout",
     "output_type": "stream",
     "text": [
      "\n",
      "   action  total utility  # of playouts      UCB1\n",
      "0       3            -10             90  0.280687\n",
      "1       5            -11             21  0.287289\n",
      "2       6            -11             20  0.281129\n",
      "3       7            132            819  0.291052\n",
      "4       8            -12             50  0.285652\n",
      "\n",
      "Best action: 7\n",
      "365 ms ± 0 ns per loop (mean ± std. dev. of 1 run, 1 loop each)\n"
     ]
    }
   ],
   "source": [
    "board = empty_board() \n",
    "board[0] = 'x'\n",
    "board[1] = 'o'\n",
    "board[2] = 'x'\n",
    "board[4] = 'o'\n",
    "\n",
    "print(\"Board:\")\n",
    "show_board(board)\n",
    "\n",
    "print()\n",
    "%timeit -n1 -r1 UCT_depth1(board, N = 1000)"
   ]
  },
  {
   "cell_type": "markdown",
   "metadata": {},
   "source": [
    "### Empty board: Only a draw an be guaranteed"
   ]
  },
  {
   "cell_type": "code",
   "execution_count": 15,
   "metadata": {
    "tags": []
   },
   "outputs": [
    {
     "name": "stdout",
     "output_type": "stream",
     "text": [
      "Board:\n"
     ]
    },
    {
     "data": {
      "image/png": "[encoded data removed]",
      "text/plain": [
       "<Figure size 160x160 with 1 Axes>"
      ]
     },
     "metadata": {
      "image/png": {
       "height": 132,
       "width": 132
      },
      "needs_background": "light"
     },
     "output_type": "display_data"
    },
    {
     "name": "stdout",
     "output_type": "stream",
     "text": [
      "\n",
      "   action  total utility  # of playouts      UCB1\n",
      "0       0              5             12  1.292754\n",
      "1       1              0              5  1.357228\n",
      "2       2              4             11  1.278679\n",
      "3       3              1              7  1.289924\n",
      "4       4              4             10  1.359705\n",
      "5       5             -1              4  1.267427\n",
      "6       6             26             31  1.383786\n",
      "7       7             10             16  1.383714\n",
      "8       8             -2              4  1.017427\n",
      "\n",
      "Best action: 6\n",
      "68.2 ms ± 0 ns per loop (mean ± std. dev. of 1 run, 1 loop each)\n",
      "   action  total utility  # of playouts      UCB1\n",
      "0       0            152            400  0.586364\n",
      "1       1             67            218  0.586874\n",
      "2       2            194            486  0.586394\n",
      "3       3             16             98  0.580183\n",
      "4       4           1451           2820  0.592260\n",
      "5       5             57            195  0.587868\n",
      "6       6             81            250  0.585032\n",
      "7       7             25            119  0.588431\n",
      "8       8            160            414  0.589318\n",
      "\n",
      "Best action: 4\n",
      "3.08 s ± 0 ns per loop (mean ± std. dev. of 1 run, 1 loop each)\n"
     ]
    }
   ],
   "source": [
    "board = empty_board() \n",
    "\n",
    "print(\"Board:\")\n",
    "show_board(board)\n",
    "\n",
    "\n",
    "print()\n",
    "%timeit -n1 -r1 UCT_depth1(board, N = 100)\n",
    "%timeit -n1 -r1 UCT_depth1(board, N = 5000)"
   ]
  },
  {
   "cell_type": "markdown",
   "metadata": {},
   "source": [
    "### A bad situation"
   ]
  },
  {
   "cell_type": "code",
   "execution_count": 16,
   "metadata": {},
   "outputs": [
    {
     "name": "stdout",
     "output_type": "stream",
     "text": [
      "Board:\n"
     ]
    },
    {
     "data": {
      "image/png": "[encoded data removed]",
      "text/plain": [
       "<Figure size 160x160 with 1 Axes>"
      ]
     },
     "metadata": {
      "image/png": {
       "height": 132,
       "width": 132
      },
      "needs_background": "light"
     },
     "output_type": "display_data"
    },
    {
     "name": "stdout",
     "output_type": "stream",
     "text": [
      "\n",
      "   action  total utility  # of playouts      UCB1\n",
      "0       1             -6              8  0.322983\n",
      "1       3             -6              7  0.289924\n",
      "2       4              1             49  0.453959\n",
      "3       5             -6              8  0.322983\n",
      "4       6             -7             23  0.328463\n",
      "5       7             -5              5  0.357228\n",
      "\n",
      "Best action: 4\n"
     ]
    },
    {
     "data": {
      "text/plain": [
       "4"
      ]
     },
     "metadata": {},
     "output_type": "display_data"
    }
   ],
   "source": [
    "board = empty_board() \n",
    "board[0] = 'o'\n",
    "board[2] = 'x'\n",
    "board[8] = 'o'\n",
    "\n",
    "print(\"Board:\")\n",
    "show_board(board)\n",
    "\n",
    "\n",
    "print()\n",
    "display(UCT_depth1(board))"
   ]
  },
  {
   "cell_type": "markdown",
   "metadata": {},
   "source": [
    "__Note:__ It looks like random player o is very unlikely to block x and take advantage of the trap by playing the bottom left corner!"
   ]
  },
  {
   "cell_type": "markdown",
   "metadata": {},
   "source": [
    "## Experiments\n",
    "\n",
    "\n",
    "### Baseline: Randomized Player\n",
    "\n",
    "A completely randomized player agent should be a weak baseline."
   ]
  },
  {
   "cell_type": "code",
   "execution_count": 1,
   "metadata": {},
   "outputs": [],
   "source": [
    "def random_player(board, player = None):\n",
    "    \"\"\"Simple player that chooses a random empy square. player is unused\"\"\"\n",
    "    return np.random.choice(actions(board))"
   ]
  },
  {
   "cell_type": "markdown",
   "metadata": {},
   "source": [
    "### The Environment\n",
    "\n",
    "Implement the environment that calls the agent. The percept is the board and the action is move."
   ]
  },
  {
   "cell_type": "code",
   "execution_count": 18,
   "metadata": {},
   "outputs": [],
   "source": [
    "DEBUG = 1\n",
    "\n",
    "def switch_player(player, x, o):\n",
    "    if player == 'x':\n",
    "        return 'o', o\n",
    "    else:\n",
    "        return 'x', x\n",
    "\n",
    "def play(x, o, N = 100):\n",
    "    results = {'x': 0, 'o': 0, 'd': 0}\n",
    "    for i in range(N):\n",
    "        board = empty_board()\n",
    "        player, fun = 'x', x\n",
    "        \n",
    "        while True:\n",
    "            a = fun(board, player)\n",
    "            board = result(board, player, a)\n",
    "            \n",
    "            win = check_win(board)\n",
    "            if win != 'n':\n",
    "                if DEBUG >= 1: print(f\"{board} winner: {win}\")\n",
    "                results[win] += 1\n",
    "                break\n",
    "            \n",
    "            player, fun = switch_player(player, x, o)   \n",
    " \n",
    "    return results"
   ]
  },
  {
   "cell_type": "markdown",
   "metadata": {},
   "source": [
    "### Random vs. Random"
   ]
  },
  {
   "cell_type": "code",
   "execution_count": 19,
   "metadata": {},
   "outputs": [
    {
     "data": {
      "text/plain": [
       "{'x': 62, 'o': 23, 'd': 15}"
      ]
     },
     "metadata": {},
     "output_type": "display_data"
    },
    {
     "name": "stdout",
     "output_type": "stream",
     "text": [
      "116 ms ± 0 ns per loop (mean ± std. dev. of 1 run, 1 loop each)\n"
     ]
    }
   ],
   "source": [
    "DEBUG = 0\n",
    "\n",
    "%timeit -n 1 -r 1 display(play(random_player, random_player))"
   ]
  },
  {
   "cell_type": "markdown",
   "metadata": {},
   "source": [
    "### Pure Monte Carlo Search vs. Random"
   ]
  },
  {
   "cell_type": "code",
   "execution_count": 20,
   "metadata": {},
   "outputs": [],
   "source": [
    "def ucb1_10_player(board, player = 'x'):\n",
    "    action = UCT_depth1(board, N = 10, player = player)\n",
    "    return action\n",
    "\n",
    "def ucb1_100_player(board, player = 'x'):\n",
    "    action = UCT_depth1(board, N = 100, player = player)\n",
    "    return action"
   ]
  },
  {
   "cell_type": "code",
   "execution_count": 21,
   "metadata": {},
   "outputs": [
    {
     "name": "stdout",
     "output_type": "stream",
     "text": [
      "UCB1 (10) vs. random:\n"
     ]
    },
    {
     "data": {
      "text/plain": [
       "{'x': 86, 'o': 6, 'd': 8}"
      ]
     },
     "metadata": {},
     "output_type": "display_data"
    },
    {
     "name": "stdout",
     "output_type": "stream",
     "text": [
      "1.43 s ± 0 ns per loop (mean ± std. dev. of 1 run, 1 loop each)\n",
      "\n",
      "random vs. UCB1 (10):\n"
     ]
    },
    {
     "data": {
      "text/plain": [
       "{'x': 17, 'o': 73, 'd': 10}"
      ]
     },
     "metadata": {},
     "output_type": "display_data"
    },
    {
     "name": "stdout",
     "output_type": "stream",
     "text": [
      "1.14 s ± 0 ns per loop (mean ± std. dev. of 1 run, 1 loop each)\n"
     ]
    }
   ],
   "source": [
    "DEBUG = 0\n",
    "print(\"UCB1 (10) vs. random:\")\n",
    "%timeit -n1 -r1 display(play(ucb1_10_player, random_player))\n",
    "\n",
    "print()\n",
    "print(\"random vs. UCB1 (10):\")\n",
    "%timeit -n1 -r1 display(play(random_player, ucb1_10_player))"
   ]
  },
  {
   "cell_type": "code",
   "execution_count": 22,
   "metadata": {},
   "outputs": [
    {
     "name": "stdout",
     "output_type": "stream",
     "text": [
      "UCB1 (100) vs. random:\n"
     ]
    },
    {
     "data": {
      "text/plain": [
       "{'x': 98, 'o': 0, 'd': 2}"
      ]
     },
     "metadata": {},
     "output_type": "display_data"
    },
    {
     "name": "stdout",
     "output_type": "stream",
     "text": [
      "13.1 s ± 0 ns per loop (mean ± std. dev. of 1 run, 1 loop each)\n",
      "\n",
      "random vs. UCB1 (100):\n"
     ]
    },
    {
     "data": {
      "text/plain": [
       "{'x': 2, 'o': 86, 'd': 12}"
      ]
     },
     "metadata": {},
     "output_type": "display_data"
    },
    {
     "name": "stdout",
     "output_type": "stream",
     "text": [
      "10.9 s ± 0 ns per loop (mean ± std. dev. of 1 run, 1 loop each)\n"
     ]
    }
   ],
   "source": [
    "DEBUG = 0\n",
    "print(\"UCB1 (100) vs. random:\")\n",
    "%timeit -n 1 -r 1 display(play(ucb1_100_player, random_player))\n",
    "\n",
    "print()\n",
    "print(\"random vs. UCB1 (100):\")\n",
    "%timeit -n 1 -r 1 display(play(random_player, ucb1_100_player))"
   ]
  },
  {
   "cell_type": "code",
   "execution_count": 24,
   "metadata": {
    "tags": []
   },
   "outputs": [
    {
     "name": "stdout",
     "output_type": "stream",
     "text": [
      "UCB1 (100) vs. UCB1 (10):\n"
     ]
    },
    {
     "data": {
      "text/plain": [
       "{'x': 92, 'o': 0, 'd': 8}"
      ]
     },
     "metadata": {},
     "output_type": "display_data"
    },
    {
     "name": "stdout",
     "output_type": "stream",
     "text": [
      "13.9 s ± 0 ns per loop (mean ± std. dev. of 1 run, 1 loop each)\n",
      "\n",
      "UCB1 (10) vs. UCB1 (100):\n"
     ]
    },
    {
     "data": {
      "text/plain": [
       "{'x': 31, 'o': 53, 'd': 16}"
      ]
     },
     "metadata": {},
     "output_type": "display_data"
    },
    {
     "name": "stdout",
     "output_type": "stream",
     "text": [
      "12 s ± 0 ns per loop (mean ± std. dev. of 1 run, 1 loop each)\n"
     ]
    }
   ],
   "source": [
    "DEBUG = 0\n",
    "print(\"UCB1 (100) vs. UCB1 (10):\")\n",
    "%timeit -n 1 -r 1 display(play(ucb1_100_player, ucb1_10_player))\n",
    "\n",
    "print()\n",
    "print(\"UCB1 (10) vs. UCB1 (100):\")\n",
    "%timeit -n 1 -r 1 display(play(ucb1_10_player, ucb1_100_player))"
   ]
  }
 ],
 "metadata": {
  "kernelspec": {
   "display_name": "Python 3 (ipykernel)",
   "language": "python",
   "name": "python3"
  },
  "language_info": {
   "codemirror_mode": {
    "name": "ipython",
    "version": 3
   },
   "file_extension": ".py",
   "mimetype": "text/x-python",
   "name": "python",
   "nbconvert_exporter": "python",
   "pygments_lexer": "ipython3",
   "version": "3.9.5"
  }
 },
 "nbformat": 4,
 "nbformat_minor": 4
}
