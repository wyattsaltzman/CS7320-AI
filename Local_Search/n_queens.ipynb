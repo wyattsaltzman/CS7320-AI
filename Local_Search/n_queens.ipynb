{
 "cells": [
  {
   "cell_type": "markdown",
   "metadata": {},
   "source": [
    "# Solving the n-Queens Problem using Local Search\n",
    "\n",
    "## Instructions\n",
    "\n",
    "Total Points: Undergrads 100 / Graduate students 110\n",
    "\n",
    "Complete this notebook. Use the provided notebook cells and insert additional code and markdown cells as needed. Submit the completely rendered notebook as a PDF file. \n"
   ]
  },
  {
   "cell_type": "markdown",
   "metadata": {},
   "source": [
    "## The n-Queens Problem\n",
    "\n",
    "* __Goal:__ Find an arrangement of $n$ queens on a $n \\times n$ chess board so that no queen is on the same row, column or diagonal as any other queen.\n",
    "\n",
    "* __State space:__ An arrangement of the queens on the board. We restrict the state space to arrangements where there is only a single queen per column. We represent a state as an integer vector $\\mathbf{q} = \\{q_1, q_2, \\dots, q_n\\}$, each number representing the row positions of the queens from left to right. We will call a state a \"board.\"\n",
    "\n",
    "* __Objective function:__ The number of pairwise conflicts (i.e., two queens in the same row/column/diagonal).\n",
    "The optimization problem is to find the optimal arrangement $\\mathbf{q}^*$ of $n$ queens on the board can be written as:\n",
    "\n",
    "  > minimize: $\\mathrm{conflicts}(\\mathbf{q})$\n",
    "  >\n",
    "  > subject to: $\\mathbf{q} \\ \\text{contains only one queen per column}$\n",
    "\n",
    "  Note: the constraint (subject to) is enforced by the definition of the state space.\n",
    "\n",
    "* __Local improvement move:__ Move one queen to a different row in its column.\n",
    "\n",
    "* __Termination:__ For this problem there is always an arrangement $\\mathbf{q}^*$ with $\\mathrm{conflicts}(\\mathbf{q}^*) = 0$, however, the local improvement moves might end up in a local minimum. "
   ]
  },
  {
   "cell_type": "markdown",
   "metadata": {},
   "source": [
    "## Helper functions"
   ]
  },
  {
   "cell_type": "code",
   "execution_count": 1,
   "metadata": {},
   "outputs": [],
   "source": [
    "import numpy as np\n",
    "import matplotlib.pyplot as plt\n",
    "from matplotlib import colors\n",
    "\n",
    "np.random.seed(1234)\n",
    "\n",
    "\n",
    "def random_board(n):\n",
    "    \"\"\"Creates a random board of size n x n. Note that only a single queen is placed in each column!\"\"\"\n",
    "    \n",
    "    return(np.random.randint(0,n, size = n))\n",
    "\n",
    "def comb2(n): return n*(n-1)//2 # this is n choose 2 equivalent to math.comb(n, 2); // is int division\n",
    "\n",
    "def conflicts(board):\n",
    "    \"\"\"Caclulate the number of conflicts, i.e., the objective function.\"\"\"\n",
    "\n",
    "    n = len(board)\n",
    "    \n",
    "    horizontal_cnt = [0] * n\n",
    "    diagonal1_cnt = [0] * 2 * n\n",
    "    diagonal2_cnt = [0] * 2 * n\n",
    "    \n",
    "    for i in range(n):\n",
    "        horizontal_cnt[board[i]] += 1\n",
    "        diagonal1_cnt[i + board[i]] += 1\n",
    "        diagonal2_cnt[i - board[i] + n] += 1\n",
    "    \n",
    "    return sum(map(comb2, horizontal_cnt + diagonal1_cnt + diagonal2_cnt))\n",
    "\n",
    "\n",
    "def show_board(board, cols = ['white', 'gray'], fontsize = 48):  \n",
    "    \"\"\"display the board\"\"\"\n",
    "    \n",
    "    n = len(board)\n",
    "    \n",
    "    # create chess board display\n",
    "    display = np.zeros([n,n])\n",
    "    for i in range(n):\n",
    "        for j in range(n):\n",
    "            if (((i+j) % 2) != 0): \n",
    "                display[i,j] = 1\n",
    "    \n",
    "    cmap = colors.ListedColormap(cols)\n",
    "    fig, ax = plt.subplots()\n",
    "    ax.imshow(display, cmap = cmap, \n",
    "              norm = colors.BoundaryNorm(range(len(cols)+1), cmap.N))\n",
    "    ax.set_xticks([])\n",
    "    ax.set_yticks([])\n",
    "    \n",
    "    # place queens. Note: Unicode u265B is a black queen\n",
    "    for j in range(n):\n",
    "        plt.text(j, board[j], u\"\\u265B\", fontsize = fontsize, \n",
    "                 horizontalalignment = 'center',\n",
    "                 verticalalignment = 'center')\n",
    "    \n",
    "    print(f\"Board with {conflicts(board)} conflicts.\")\n",
    "    plt.show()"
   ]
  },
  {
   "cell_type": "markdown",
   "metadata": {},
   "source": [
    "## Create a board"
   ]
  },
  {
   "cell_type": "code",
   "execution_count": 25,
   "metadata": {},
   "outputs": [
    {
     "name": "stdout",
     "output_type": "stream",
     "text": [
      "Board with 2 conflicts.\n"
     ]
    },
    {
     "data": {
      "image/png": "[encoded data removed]",
      "text/plain": [
       "<Figure size 432x288 with 1 Axes>"
      ]
     },
     "metadata": {},
     "output_type": "display_data"
    },
    {
     "name": "stdout",
     "output_type": "stream",
     "text": [
      "Queens (left to right) are at rows: [3 2 0 3]\n",
      "Number of conflicts: 2\n"
     ]
    }
   ],
   "source": [
    "board = random_board(4)\n",
    "\n",
    "show_board(board)\n",
    "print(f\"Queens (left to right) are at rows: {board}\")\n",
    "print(f\"Number of conflicts: {conflicts(board)}\")"
   ]
  },
  {
   "cell_type": "markdown",
   "metadata": {},
   "source": [
    "A board $4 \\times 4$ with no conflicts:"
   ]
  },
  {
   "cell_type": "code",
   "execution_count": 48,
   "metadata": {},
   "outputs": [
    {
     "name": "stdout",
     "output_type": "stream",
     "text": [
      "Board with 4 conflicts.\n"
     ]
    },
    {
     "data": {
      "image/png": "[encoded data removed]",
      "text/plain": [
       "<Figure size 432x288 with 1 Axes>"
      ]
     },
     "metadata": {},
     "output_type": "display_data"
    }
   ],
   "source": [
    "board[0] =4\n",
    "show_board(board)"
   ]
  },
  {
   "cell_type": "code",
   "execution_count": 49,
   "metadata": {},
   "outputs": [
    {
     "name": "stdout",
     "output_type": "stream",
     "text": [
      "Board with 0 conflicts.\n"
     ]
    },
    {
     "data": {
      "image/png": "[encoded data removed]",
      "text/plain": [
       "<Figure size 432x288 with 1 Axes>"
      ]
     },
     "metadata": {},
     "output_type": "display_data"
    },
    {
     "name": "stdout",
     "output_type": "stream",
     "text": [
      "[1, 3, 0, 2]\n"
     ]
    }
   ],
   "source": [
    "board = [1,3,0,2]\n",
    "show_board(board)\n",
    "print(board)"
   ]
  },
  {
   "cell_type": "markdown",
   "metadata": {},
   "source": [
    "# Tasks\n",
    "\n",
    "## General [10 Points]\n",
    "\n",
    "1. Make sure that you use the latest version of this notebook. Sync your forked repository and pull the latest revision. \n",
    "2. Your implementation can use libraries like math, numpy, scipy, but not libraries that implement inteligent agents or complete search algorithms. Try to keep the code simple! In this course, we want to learn about the algorithms and we often do not need to use object-oriented design.\n",
    "3. You notebook needs to be formated professionally. \n",
    "    - Add additional markdown blocks for your description, comments in the code, add tables and use mathplotlib to produce charts where appropriate\n",
    "    - Do not show debugging output or include an excessive amount of output.\n",
    "    - Check that your PDF file is readable. For example, long lines are cut off in the PDF file. You don't have control over page breaks, so do not worry about these.\n",
    "4. Document your code. Add a short discussion of how your implementation works and your design choices."
   ]
  },
  {
   "cell_type": "markdown",
   "metadata": {},
   "source": [
    "## Task 1: Steepest-ascend Hill Climbing Search [30 Points]\n",
    "\n",
    "Calculate the objective function for all local moves (see definition of local moves above) and always choose the best among all local moves. If there are no local moves that improve the objective, then you have reached a local optimum. "
   ]
  },
  {
   "cell_type": "code",
   "execution_count": 26,
   "metadata": {},
   "outputs": [],
   "source": [
    "# calculates every possible move on the inputed board and returns the board where the move caused the least number of conflicts\n",
    "def best_move(board):\n",
    "    start = board.copy()\n",
    "    copy = board.copy()\n",
    "    main = board.copy()\n",
    "    starting_conflicts = conflicts(board)\n",
    "    min_conflicts = conflicts(board)\n",
    "    for i in range(len(board)):\n",
    "        check = board.copy()\n",
    "        if board[i] == 0: # checks if queen is at top of the board\n",
    "            board[i] += 1\n",
    "            curr = conflicts(board)\n",
    "        elif board[i] == len(board) - 1: # checks if queen is at the very bottom of the board\n",
    "            board[i] -= 1\n",
    "            curr = conflicts(board)\n",
    "        else: # if it is in the middle it will check if going up or down causing less conflicts\n",
    "            board[i] += 1\n",
    "            check[i] -= 1\n",
    "            down = conflicts(board)\n",
    "            up = conflicts(check)\n",
    "            if down > up:\n",
    "                curr = up\n",
    "                board = check.copy()\n",
    "            elif up > down: curr = down\n",
    "            else: curr = down # if they have the same number of conflicts then the queen will move down\n",
    "        if curr < min_conflicts:\n",
    "            min_conflicts = curr\n",
    "            main = board.copy()\n",
    "        board = copy.copy()\n",
    "    if starting_conflicts == min_conflicts: # if no better board is discovered it returns the input board\n",
    "        return start\n",
    "    return main"
   ]
  },
  {
   "cell_type": "code",
   "execution_count": 27,
   "metadata": {},
   "outputs": [],
   "source": [
    "# creates a board. Gets the best possible move for the board until there are no more better moves\n",
    "def steep(size):\n",
    "    board = random_board(size)\n",
    "    least_conflicts = conflicts(board)\n",
    "    while True:\n",
    "        next = best_move(board).copy()\n",
    "        curr_conflicts = conflicts(next)\n",
    "        if curr_conflicts < least_conflicts:\n",
    "            least_conflicts = curr_conflicts\n",
    "        elif curr_conflicts == least_conflicts: return next\n",
    "        board = next.copy()"
   ]
  },
  {
   "cell_type": "markdown",
   "metadata": {},
   "source": [
    "## Task 2: Stochastic Hill Climbing 1 [10 Points]\n",
    "\n",
    "Chooses randomly from among all uphill moves till you have reached a local optimum."
   ]
  },
  {
   "cell_type": "code",
   "execution_count": 5,
   "metadata": {},
   "outputs": [],
   "source": [
    "# gets a random move and if it has less conflicts then it loops but if new move has more conflicts then a local optimum is reached\n",
    "def stochastic(size):\n",
    "    board = random_board(size)\n",
    "    least_conflicts = conflicts(board)\n",
    "    while True:\n",
    "        next = random_move(board).copy()\n",
    "        curr_conflicts = conflicts(next)\n",
    "        if curr_conflicts < least_conflicts:\n",
    "            least_conflicts = curr_conflicts\n",
    "        elif curr_conflicts >= least_conflicts: return next\n",
    "        board = next.copy()"
   ]
  },
  {
   "cell_type": "code",
   "execution_count": 4,
   "metadata": {},
   "outputs": [],
   "source": [
    "# creates a list of boards with every possible current move then randomly returns one of the moves\n",
    "def random_move(board):\n",
    "    moves = []\n",
    "    copy = board.copy()\n",
    "    min_conflicts = conflicts(board)\n",
    "    for i in range(len(board)):\n",
    "        check = board.copy()\n",
    "        if board[i] == 0:\n",
    "            board[i] += 1\n",
    "            curr = conflicts(board)\n",
    "        elif board[i] == len(board) - 1:\n",
    "            board[i] -= 1\n",
    "            curr = conflicts(board)\n",
    "        else:\n",
    "            board[i] += 1\n",
    "            check[i] -= 1\n",
    "            down = conflicts(board)\n",
    "            up = conflicts(check)\n",
    "            if down > up:\n",
    "                curr = up\n",
    "                board = check.copy()\n",
    "            elif up > down: curr = down\n",
    "            else: curr = down\n",
    "        if curr < min_conflicts:\n",
    "            min_conflicts = curr\n",
    "        moves.append(board)\n",
    "        board = copy.copy()\n",
    "    np.random.shuffle(moves) # shuffles board to randomly choose move\n",
    "    return moves[0]"
   ]
  },
  {
   "cell_type": "markdown",
   "metadata": {},
   "source": [
    "## Task 3: Stochastic Hill Climbing 2 [20 Points]\n",
    "\n",
    "A popular version of stochastic hill climbing generates only a single random local neighbor at a time and accept it if it has a better objective function value than the current state. This is very efficient if each state has many possible successor states. This method is called \"First-choice hill climbing\" in the textbook.\n",
    "\n",
    "__Notes:__ \n",
    "\n",
    "* Detecting local optima is tricky! You can, for example, stop if you were not able to improve the objective function during the last $x$ tries."
   ]
  },
  {
   "cell_type": "code",
   "execution_count": 58,
   "metadata": {},
   "outputs": [
    {
     "data": {
      "text/plain": [
       "2"
      ]
     },
     "execution_count": 58,
     "metadata": {},
     "output_type": "execute_result"
    }
   ],
   "source": [
    "# keeps getting a random move until the number of conflicts is less than the current board. Then sets the least number of conflicts to the current number of conflicts.\n",
    "# Returns board once conflicts equals zero or the number of tries has been exceeded\n",
    "def stochastic2(size):\n",
    "    board = random_board(size)\n",
    "    least_conflicts = conflicts(board)\n",
    "    tries = 10000 # set to the number of times you want it to try to find a local optima\n",
    "    n = 0\n",
    "    while True:\n",
    "        next = first_choice(board).copy()\n",
    "        curr_conflicts = conflicts(next)\n",
    "        while curr_conflicts >= least_conflicts:\n",
    "            next = first_choice(board).copy()\n",
    "            curr_conflicts = conflicts(next)\n",
    "            n += 1\n",
    "            if n >= tries:\n",
    "                return board\n",
    "        n = 0\n",
    "        if curr_conflicts < least_conflicts:\n",
    "            least_conflicts = curr_conflicts\n",
    "        if least_conflicts == 0: return next\n",
    "        board = next.copy()"
   ]
  },
  {
   "cell_type": "code",
   "execution_count": 6,
   "metadata": {},
   "outputs": [],
   "source": [
    "# returns a random move\n",
    "def first_choice(b):\n",
    "    board = b.copy()\n",
    "    upOrDown = [-1, 1]\n",
    "    rand = np.random.randint(0,len(board)-1) # randomly chooses a column to move queen in\n",
    "    if board[rand] == 0:\n",
    "        board[rand] += 1\n",
    "    elif board[rand] == len(board)-1:\n",
    "        board[rand] -= 1\n",
    "    else:\n",
    "        np.random.shuffle(upOrDown) # randomly chooses to move queen up or down\n",
    "        board[rand] += upOrDown[0]\n",
    "    return board"
   ]
  },
  {
   "cell_type": "markdown",
   "metadata": {},
   "source": [
    "## Task 4: Hill Climbing Search with Random Restarts [10 Points]\n",
    "\n",
    "Hill climbing will often end up in local optima. Restart the each of the three hill climbing algorithm up to 100 times with a random board to find a better (hopefully optimal) solution. Note that restart just means to run the algoithm several times starting with a new random board."
   ]
  },
  {
   "cell_type": "code",
   "execution_count": 86,
   "metadata": {},
   "outputs": [
    {
     "name": "stdout",
     "output_type": "stream",
     "text": [
      "STEEP\n",
      "Board with 2 conflicts.\n"
     ]
    },
    {
     "data": {
      "image/png": "[encoded data removed]",
      "text/plain": [
       "<Figure size 432x288 with 1 Axes>"
      ]
     },
     "metadata": {},
     "output_type": "display_data"
    },
    {
     "name": "stdout",
     "output_type": "stream",
     "text": [
      "Board with 1 conflicts.\n"
     ]
    },
    {
     "data": {
      "image/png": "[encoded data removed]",
      "text/plain": [
       "<Figure size 432x288 with 1 Axes>"
      ]
     },
     "metadata": {},
     "output_type": "display_data"
    },
    {
     "name": "stdout",
     "output_type": "stream",
     "text": [
      "Board with 0 conflicts.\n"
     ]
    },
    {
     "data": {
      "image/png": "[encoded data removed]",
      "text/plain": [
       "<Figure size 432x288 with 1 Axes>"
      ]
     },
     "metadata": {},
     "output_type": "display_data"
    },
    {
     "name": "stdout",
     "output_type": "stream",
     "text": [
      "FINISHED\n",
      "STOCH1\n",
      "Board with 4 conflicts.\n"
     ]
    },
    {
     "data": {
      "image/png": "[encoded data removed]",
      "text/plain": [
       "<Figure size 432x288 with 1 Axes>"
      ]
     },
     "metadata": {},
     "output_type": "display_data"
    },
    {
     "name": "stdout",
     "output_type": "stream",
     "text": [
      "Board with 2 conflicts.\n"
     ]
    },
    {
     "data": {
      "image/png": "[encoded data removed]",
      "text/plain": [
       "<Figure size 432x288 with 1 Axes>"
      ]
     },
     "metadata": {},
     "output_type": "display_data"
    },
    {
     "name": "stdout",
     "output_type": "stream",
     "text": [
      "Board with 1 conflicts.\n"
     ]
    },
    {
     "data": {
      "image/png": "[encoded data removed]",
      "text/plain": [
       "<Figure size 432x288 with 1 Axes>"
      ]
     },
     "metadata": {},
     "output_type": "display_data"
    },
    {
     "name": "stdout",
     "output_type": "stream",
     "text": [
      "STOCH2\n",
      "Board with 2 conflicts.\n"
     ]
    },
    {
     "data": {
      "image/png": "[encoded data removed]",
      "text/plain": [
       "<Figure size 432x288 with 1 Axes>"
      ]
     },
     "metadata": {},
     "output_type": "display_data"
    },
    {
     "name": "stdout",
     "output_type": "stream",
     "text": [
      "Board with 0 conflicts.\n"
     ]
    },
    {
     "data": {
      "image/png": "[encoded data removed]",
      "text/plain": [
       "<Figure size 432x288 with 1 Axes>"
      ]
     },
     "metadata": {},
     "output_type": "display_data"
    },
    {
     "name": "stdout",
     "output_type": "stream",
     "text": [
      "Finished\n"
     ]
    }
   ],
   "source": [
    "# runs each of the 3 algorithms 100 times or until the ideal situation is found\n",
    "def random_restarts(size):\n",
    "    # first the steepeset algorithm\n",
    "    best_board = steep(size).copy()\n",
    "    print('STEEP')\n",
    "    show_board(best_board)\n",
    "    for i in range(100):\n",
    "        s_new = steep(size).copy()\n",
    "        if conflicts(s_new) < conflicts(best_board):\n",
    "            show_board(s_new)\n",
    "            best_board = s_new.copy()\n",
    "        if conflicts(best_board) == 0:\n",
    "            print(\"FINISHED\")\n",
    "            break\n",
    "    # next the 1st stochastic algorithm\n",
    "    best_board = stochastic(size).copy()\n",
    "    print(\"STOCH1\")\n",
    "    show_board(best_board)\n",
    "    for i in range(100):\n",
    "        stoch_new = stochastic(size).copy()\n",
    "        new = conflicts(stoch_new)\n",
    "        best = conflicts(best_board)\n",
    "        if new < best:\n",
    "            show_board(stoch_new)\n",
    "            best_board = stoch_new.copy()\n",
    "        if conflicts(best_board) == 0:\n",
    "            print('FINISHED')\n",
    "            break\n",
    "    # finally the 2nd stochastic algorithm\n",
    "    print(\"STOCH2\")\n",
    "    old = stochastic2(size).copy()\n",
    "    best_board = old.copy()\n",
    "    show_board(old)\n",
    "    for i in range(100):\n",
    "        new = stochastic2(size).copy()\n",
    "        if conflicts(new) < conflicts(best_board):\n",
    "            show_board(new)\n",
    "            best_board = new.copy()\n",
    "        if conflicts(best_board) == 0:\n",
    "            print('Finished')\n",
    "            break\n",
    "test = random_restarts(5)"
   ]
  },
  {
   "cell_type": "markdown",
   "metadata": {},
   "source": [
    "## Task 5: Compare Performance [20 Points]\n",
    "\n",
    "Use runtime and objective function value to compare the algorithms. \n",
    "\n",
    "* Use boards of different sizes to explore how the different algorithms perform. Make sure that you run the algorithms for each board size several times (at least 10 times) with different starting boards and report averages.\n",
    "\n",
    "* How do the algorithms scale with problem size? Use tables and charts.\n",
    "\n",
    "* What is the largest board each algorithm can solve in a reasonable amount time?\n",
    "\n",
    "See [Profiling Python Code](../Python_Code_Examples/profiling_code.ipynb) for help about how to measure runtime in Python."
   ]
  },
  {
   "cell_type": "code",
   "execution_count": 64,
   "metadata": {},
   "outputs": [
    {
     "name": "stdout",
     "output_type": "stream",
     "text": [
      "STEEP\n",
      "size | avg time | conflicts\n",
      "5 |  0.263286   |   2.1\n",
      "10 |  0.92988   |   4.5\n",
      "15 |  2.595377   |   7.2\n",
      "20 |  4.865479   |   9.0\n",
      "25 |  9.658742   |   12.1\n"
     ]
    }
   ],
   "source": [
    "# calculates the average time and average number of conflicts at varing conflicts\n",
    "import time\n",
    "sizes = [5, 10, 15, 20, 25]\n",
    "avg_time = 0\n",
    "total_time = 0\n",
    "total_cons = 0\n",
    "print('STEEP')\n",
    "print('size | avg time | conflicts')\n",
    "for size in sizes:\n",
    "    total_time = 0\n",
    "    total_cons = 0\n",
    "    for i in range(10):\n",
    "        start = time.time()\n",
    "        board = steep(size).copy()\n",
    "        end = time.time()\n",
    "        total_time += (end - start)\n",
    "        total_cons += conflicts(board)\n",
    "    avg_time = total_time / 10\n",
    "    avg_cons = total_cons / 10\n",
    "    print(size, '| ', round(avg_time*1000,6), '  |  ', avg_cons)\n"
   ]
  },
  {
   "cell_type": "code",
   "execution_count": 65,
   "metadata": {},
   "outputs": [
    {
     "name": "stdout",
     "output_type": "stream",
     "text": [
      "stochastic 1\n",
      "size | avg time   | conflicts\n",
      "5 |  0.221968    |  5.2\n",
      "10 |  0.405788    |  11.6\n",
      "15 |  0.851059    |  15.2\n",
      "20 |  1.314187    |  20.8\n",
      "25 |  1.819277    |  27.7\n"
     ]
    }
   ],
   "source": [
    "sizes = [5, 10, 15, 20, 25]\n",
    "avg_time = 0\n",
    "total_time = 0\n",
    "total_cons = 0\n",
    "print('stochastic 1')\n",
    "print('size | avg time   | conflicts')\n",
    "for size in sizes:\n",
    "    total_time = 0\n",
    "    total_cons = 0\n",
    "    for i in range(10):\n",
    "        start = time.time()\n",
    "        board = stochastic(size).copy()\n",
    "        end = time.time()\n",
    "        total_time += (end - start)\n",
    "        total_cons += conflicts(board)\n",
    "    avg_time = total_time / 10\n",
    "    avg_cons = total_cons / 10\n",
    "    print(size, '| ', round(avg_time*1000,6), '   | ', avg_cons)"
   ]
  },
  {
   "cell_type": "code",
   "execution_count": 66,
   "metadata": {},
   "outputs": [
    {
     "name": "stdout",
     "output_type": "stream",
     "text": [
      "stochastic 2\n",
      "size | avg time    | conflicts\n",
      "5 |  52.181649 |  1.9\n",
      "10 |  109.885836 |  4.4\n",
      "15 |  147.348452 |  7.2\n",
      "20 |  190.874743 |  10.3\n",
      "25 |  235.575938 |  11.8\n"
     ]
    }
   ],
   "source": [
    "sizes = [5, 10, 15, 20, 25]\n",
    "avg_time = 0\n",
    "total_time = 0\n",
    "total_cons = 0\n",
    "print('stochastic 2')\n",
    "print('size | avg time    | conflicts')\n",
    "for size in sizes:\n",
    "    total_time = 0\n",
    "    total_cons = 0\n",
    "    for i in range(10):\n",
    "        start = time.time()\n",
    "        board = stochastic2(size).copy()\n",
    "        end = time.time()\n",
    "        total_time += (end - start)\n",
    "        total_cons += conflicts(board)\n",
    "    avg_time = total_time / 10\n",
    "    avg_cons = total_cons / 10\n",
    "    print(size, '| ', round(avg_time*1000,6), '| ', avg_cons)"
   ]
  },
  {
   "cell_type": "code",
   "execution_count": 93,
   "metadata": {},
   "outputs": [
    {
     "name": "stdout",
     "output_type": "stream",
     "text": [
      "101 time:  4130.038022994995\n"
     ]
    }
   ],
   "source": [
    "# determining largest size for each algorithm\n",
    "start = time.time()\n",
    "s = steep(200)\n",
    "end = time.time()\n",
    "x = conflicts(s)\n",
    "print(x, 'time: ', (end-start)*1000)"
   ]
  },
  {
   "cell_type": "code",
   "execution_count": 96,
   "metadata": {},
   "outputs": [
    {
     "name": "stdout",
     "output_type": "stream",
     "text": [
      "1154 time:  3251.9350051879883\n"
     ]
    }
   ],
   "source": [
    "start = time.time()\n",
    "s = stochastic(1000)\n",
    "end = time.time()\n",
    "x = conflicts(s)\n",
    "print(x, 'time: ', (end-start)*1000)"
   ]
  },
  {
   "cell_type": "code",
   "execution_count": 100,
   "metadata": {},
   "outputs": [
    {
     "name": "stdout",
     "output_type": "stream",
     "text": [
      "206 time:  4183.388710021973\n"
     ]
    }
   ],
   "source": [
    "start = time.time()\n",
    "s = stochastic2(400)\n",
    "end = time.time()\n",
    "x = conflicts(s)\n",
    "print(x, 'time: ', (end-start)*1000)"
   ]
  },
  {
   "cell_type": "code",
   "execution_count": 77,
   "metadata": {},
   "outputs": [
    {
     "name": "stdout",
     "output_type": "stream",
     "text": [
      "Size 5\n"
     ]
    },
    {
     "data": {
      "text/html": [
       "<div>\n",
       "<style scoped>\n",
       "    .dataframe tbody tr th:only-of-type {\n",
       "        vertical-align: middle;\n",
       "    }\n",
       "\n",
       "    .dataframe tbody tr th {\n",
       "        vertical-align: top;\n",
       "    }\n",
       "\n",
       "    .dataframe thead th {\n",
       "        text-align: right;\n",
       "    }\n",
       "</style>\n",
       "<table border=\"1\" class=\"dataframe\">\n",
       "  <thead>\n",
       "    <tr style=\"text-align: right;\">\n",
       "      <th></th>\n",
       "      <th>avg_time</th>\n",
       "      <th>avg_conflicts</th>\n",
       "    </tr>\n",
       "  </thead>\n",
       "  <tbody>\n",
       "    <tr>\n",
       "      <th>steep</th>\n",
       "      <td>0.263286</td>\n",
       "      <td>2.1</td>\n",
       "    </tr>\n",
       "    <tr>\n",
       "      <th>stochastic1</th>\n",
       "      <td>0.221968</td>\n",
       "      <td>5.2</td>\n",
       "    </tr>\n",
       "    <tr>\n",
       "      <th>stochastic2</th>\n",
       "      <td>52.181649</td>\n",
       "      <td>1.9</td>\n",
       "    </tr>\n",
       "  </tbody>\n",
       "</table>\n",
       "</div>"
      ],
      "text/plain": [
       "              avg_time  avg_conflicts\n",
       "steep         0.263286            2.1\n",
       "stochastic1   0.221968            5.2\n",
       "stochastic2  52.181649            1.9"
      ]
     },
     "metadata": {},
     "output_type": "display_data"
    },
    {
     "name": "stdout",
     "output_type": "stream",
     "text": [
      "Size 10\n"
     ]
    },
    {
     "data": {
      "text/html": [
       "<div>\n",
       "<style scoped>\n",
       "    .dataframe tbody tr th:only-of-type {\n",
       "        vertical-align: middle;\n",
       "    }\n",
       "\n",
       "    .dataframe tbody tr th {\n",
       "        vertical-align: top;\n",
       "    }\n",
       "\n",
       "    .dataframe thead th {\n",
       "        text-align: right;\n",
       "    }\n",
       "</style>\n",
       "<table border=\"1\" class=\"dataframe\">\n",
       "  <thead>\n",
       "    <tr style=\"text-align: right;\">\n",
       "      <th></th>\n",
       "      <th>avg_time</th>\n",
       "      <th>avg_conflicts</th>\n",
       "    </tr>\n",
       "  </thead>\n",
       "  <tbody>\n",
       "    <tr>\n",
       "      <th>steep</th>\n",
       "      <td>0.929880</td>\n",
       "      <td>4.5</td>\n",
       "    </tr>\n",
       "    <tr>\n",
       "      <th>stochastic1</th>\n",
       "      <td>0.405788</td>\n",
       "      <td>11.6</td>\n",
       "    </tr>\n",
       "    <tr>\n",
       "      <th>stochastic2</th>\n",
       "      <td>109.885836</td>\n",
       "      <td>4.4</td>\n",
       "    </tr>\n",
       "  </tbody>\n",
       "</table>\n",
       "</div>"
      ],
      "text/plain": [
       "               avg_time  avg_conflicts\n",
       "steep          0.929880            4.5\n",
       "stochastic1    0.405788           11.6\n",
       "stochastic2  109.885836            4.4"
      ]
     },
     "metadata": {},
     "output_type": "display_data"
    },
    {
     "name": "stdout",
     "output_type": "stream",
     "text": [
      "Size 15\n"
     ]
    },
    {
     "data": {
      "text/html": [
       "<div>\n",
       "<style scoped>\n",
       "    .dataframe tbody tr th:only-of-type {\n",
       "        vertical-align: middle;\n",
       "    }\n",
       "\n",
       "    .dataframe tbody tr th {\n",
       "        vertical-align: top;\n",
       "    }\n",
       "\n",
       "    .dataframe thead th {\n",
       "        text-align: right;\n",
       "    }\n",
       "</style>\n",
       "<table border=\"1\" class=\"dataframe\">\n",
       "  <thead>\n",
       "    <tr style=\"text-align: right;\">\n",
       "      <th></th>\n",
       "      <th>avg_time</th>\n",
       "      <th>avg_conflicts</th>\n",
       "    </tr>\n",
       "  </thead>\n",
       "  <tbody>\n",
       "    <tr>\n",
       "      <th>steep</th>\n",
       "      <td>2.595377</td>\n",
       "      <td>7.2</td>\n",
       "    </tr>\n",
       "    <tr>\n",
       "      <th>stochastic1</th>\n",
       "      <td>0.851059</td>\n",
       "      <td>15.2</td>\n",
       "    </tr>\n",
       "    <tr>\n",
       "      <th>stochastic2</th>\n",
       "      <td>147.348452</td>\n",
       "      <td>7.2</td>\n",
       "    </tr>\n",
       "  </tbody>\n",
       "</table>\n",
       "</div>"
      ],
      "text/plain": [
       "               avg_time  avg_conflicts\n",
       "steep          2.595377            7.2\n",
       "stochastic1    0.851059           15.2\n",
       "stochastic2  147.348452            7.2"
      ]
     },
     "metadata": {},
     "output_type": "display_data"
    },
    {
     "name": "stdout",
     "output_type": "stream",
     "text": [
      "Size 20\n"
     ]
    },
    {
     "data": {
      "text/html": [
       "<div>\n",
       "<style scoped>\n",
       "    .dataframe tbody tr th:only-of-type {\n",
       "        vertical-align: middle;\n",
       "    }\n",
       "\n",
       "    .dataframe tbody tr th {\n",
       "        vertical-align: top;\n",
       "    }\n",
       "\n",
       "    .dataframe thead th {\n",
       "        text-align: right;\n",
       "    }\n",
       "</style>\n",
       "<table border=\"1\" class=\"dataframe\">\n",
       "  <thead>\n",
       "    <tr style=\"text-align: right;\">\n",
       "      <th></th>\n",
       "      <th>avg_time</th>\n",
       "      <th>avg_conflicts</th>\n",
       "    </tr>\n",
       "  </thead>\n",
       "  <tbody>\n",
       "    <tr>\n",
       "      <th>steep</th>\n",
       "      <td>4.865479</td>\n",
       "      <td>9.0</td>\n",
       "    </tr>\n",
       "    <tr>\n",
       "      <th>stochastic1</th>\n",
       "      <td>1.314187</td>\n",
       "      <td>20.8</td>\n",
       "    </tr>\n",
       "    <tr>\n",
       "      <th>stochastic2</th>\n",
       "      <td>190.874743</td>\n",
       "      <td>10.3</td>\n",
       "    </tr>\n",
       "  </tbody>\n",
       "</table>\n",
       "</div>"
      ],
      "text/plain": [
       "               avg_time  avg_conflicts\n",
       "steep          4.865479            9.0\n",
       "stochastic1    1.314187           20.8\n",
       "stochastic2  190.874743           10.3"
      ]
     },
     "metadata": {},
     "output_type": "display_data"
    },
    {
     "name": "stdout",
     "output_type": "stream",
     "text": [
      "Size 25\n"
     ]
    },
    {
     "data": {
      "text/html": [
       "<div>\n",
       "<style scoped>\n",
       "    .dataframe tbody tr th:only-of-type {\n",
       "        vertical-align: middle;\n",
       "    }\n",
       "\n",
       "    .dataframe tbody tr th {\n",
       "        vertical-align: top;\n",
       "    }\n",
       "\n",
       "    .dataframe thead th {\n",
       "        text-align: right;\n",
       "    }\n",
       "</style>\n",
       "<table border=\"1\" class=\"dataframe\">\n",
       "  <thead>\n",
       "    <tr style=\"text-align: right;\">\n",
       "      <th></th>\n",
       "      <th>avg_time</th>\n",
       "      <th>avg_conflicts</th>\n",
       "    </tr>\n",
       "  </thead>\n",
       "  <tbody>\n",
       "    <tr>\n",
       "      <th>steep</th>\n",
       "      <td>9.658742</td>\n",
       "      <td>12.1</td>\n",
       "    </tr>\n",
       "    <tr>\n",
       "      <th>stochastic1</th>\n",
       "      <td>1.819277</td>\n",
       "      <td>27.7</td>\n",
       "    </tr>\n",
       "    <tr>\n",
       "      <th>stochastic2</th>\n",
       "      <td>235.575938</td>\n",
       "      <td>11.8</td>\n",
       "    </tr>\n",
       "  </tbody>\n",
       "</table>\n",
       "</div>"
      ],
      "text/plain": [
       "               avg_time  avg_conflicts\n",
       "steep          9.658742           12.1\n",
       "stochastic1    1.819277           27.7\n",
       "stochastic2  235.575938           11.8"
      ]
     },
     "metadata": {},
     "output_type": "display_data"
    }
   ],
   "source": [
    "# create dataframes for each size that I tested\n",
    "import pandas as pd\n",
    "import numpy as np\n",
    "from IPython.display import display\n",
    "arr = ['avg_time', 'avg_conflicts']\n",
    "rows = ['steep', 'stochastic1', 'stochastic2']\n",
    "steep5 = [0.263286, 2.1]\n",
    "stoch5 = [0.221968, 5.2]\n",
    "stoch2_5 = [52.181649, 1.9]\n",
    "five = np.array([steep5, stoch5, stoch2_5])\n",
    "df_five = pd.DataFrame(five, columns = arr, index=rows)\n",
    "print('Size 5')\n",
    "display(df_five)\n",
    "steep10 = [0.92988, 4.5]\n",
    "stoch10 = [0.405788, 11.6]\n",
    "stoch2_10 = [109.885836, 4.4]\n",
    "ten = np.array([steep10, stoch10, stoch2_10])\n",
    "df_ten = pd.DataFrame(ten, columns = arr, index=rows)\n",
    "print('Size 10')\n",
    "display(df_ten)\n",
    "steep15 = [2.595377, 7.2]\n",
    "stoch15 = [0.851059, 15.2]\n",
    "stoch2_15 = [147.348452, 7.2]\n",
    "fifthteen = np.array([steep15, stoch15, stoch2_15])\n",
    "df_fifthteen = pd.DataFrame(fifthteen, columns = arr, index=rows)\n",
    "print('Size 15')\n",
    "display(df_fifthteen)\n",
    "steep20 = [4.865479, 9.0]\n",
    "stoch20 = [1.314187, 20.8]\n",
    "stoch2_20 = [190.874743, 10.3]\n",
    "twenty = np.array([steep20, stoch20, stoch2_20])\n",
    "df_twenty = pd.DataFrame(twenty, columns = arr, index=rows)\n",
    "print('Size 20')\n",
    "display(df_twenty)\n",
    "steep25 = [9.658742, 12.1]\n",
    "stoch25 = [1.819277, 27.7]\n",
    "stoch2_25 = [235.575938, 11.8]\n",
    "twenty_five = np.array([steep25, stoch25, stoch2_25])\n",
    "df_twenty_five = pd.DataFrame(twenty_five, columns = arr, index=rows)\n",
    "print('Size 25')\n",
    "display(df_twenty_five)"
   ]
  },
  {
   "cell_type": "code",
   "execution_count": 83,
   "metadata": {},
   "outputs": [],
   "source": [
    "df_five = df_five.transpose()\n",
    "df_fifthteen = df_fifthteen.transpose()\n",
    "df_twenty_five = df_twenty_five.transpose()"
   ]
  },
  {
   "cell_type": "code",
   "execution_count": 85,
   "metadata": {},
   "outputs": [
    {
     "data": {
      "text/plain": [
       "<AxesSubplot:>"
      ]
     },
     "execution_count": 85,
     "metadata": {},
     "output_type": "execute_result"
    },
    {
     "data": {
      "image/png": "[encoded data removed]",
      "text/plain": [
       "<Figure size 432x288 with 1 Axes>"
      ]
     },
     "metadata": {
      "needs_background": "light"
     },
     "output_type": "display_data"
    },
    {
     "data": {
      "image/png": "[encoded data removed]",
      "text/plain": [
       "<Figure size 432x288 with 1 Axes>"
      ]
     },
     "metadata": {
      "needs_background": "light"
     },
     "output_type": "display_data"
    },
    {
     "data": {
      "image/png": "[encoded data removed]",
      "text/plain": [
       "<Figure size 432x288 with 1 Axes>"
      ]
     },
     "metadata": {
      "needs_background": "light"
     },
     "output_type": "display_data"
    }
   ],
   "source": [
    "# bargraphs at varying sizes\n",
    "df_five.plot(kind='bar', logy=True)\n",
    "df_fifthteen.plot(kind='bar', logy=True)\n",
    "df_twenty_five.plot(kind='bar', logy=True)"
   ]
  },
  {
   "cell_type": "markdown",
   "metadata": {},
   "source": [
    "Looking at these graphs it is very apparent that the 2nd stochastic hill climbing algorithm takes longer at every single input size. This is very dependent on how many tries you set it to allow. Even though it takes the most time it has the least number of average conflicts meaning that it does that best job solving the puzzle every time. The steepest hill climbing algorithm is very close behind in average conflicts and considering the big difference in time, makes the steepest algorithm pretty optimal. The first stochastic hill climbing algorithm is exponentially the fastest algorithm to find a local maximum because it is randomly selecting the next move making it quick to find one. I feel that if I limited the number of tries for the 2nd stochastic hill climbing algorithm it is possible that timing would have gone down quite a bit without the average conflicts increasing that much. The largest reasonable size for the steepest hill climbing algo was around 200, for the 1st stochastic hill climbing algorithm was around 1000, and for the 2nd stochastic hill climbing algorithm was around 400."
   ]
  },
  {
   "cell_type": "markdown",
   "metadata": {},
   "source": [
    "## Graduate student advanced task: Simulated Annealing [10 Points]\n",
    "\n",
    "__Undergraduate students:__ This is a bonus task you can attempt if you like [+5 Bonus Points].\n",
    "\n",
    "Simulated annealing is a form of stochastic hill climbing that avoid local optima by also allowing downhill moves with a probability proportional to a temperature. The temperature is decreased in every iteration following an annealing schedule. You have to experiment with the annealing schedule (Google to find guidance on this).\n",
    "\n",
    "\n",
    "1. Implement simulated annealing for the n-Queens problem.\n",
    "2. Compare the performance with the previous algorithms. \n",
    "2. Discuss your choice of annealing schedule."
   ]
  },
  {
   "cell_type": "code",
   "execution_count": 9,
   "metadata": {
    "tags": []
   },
   "outputs": [],
   "source": [
    "# Code and description go here"
   ]
  },
  {
   "cell_type": "markdown",
   "metadata": {},
   "source": [
    "## More things to do\n",
    "\n",
    "Implement a Genetic Algorithm for the n-Queens problem."
   ]
  },
  {
   "cell_type": "code",
   "execution_count": 10,
   "metadata": {
    "tags": []
   },
   "outputs": [],
   "source": [
    "# Code and description go here"
   ]
  }
 ],
 "metadata": {
  "kernelspec": {
   "display_name": "Python 3 (ipykernel)",
   "language": "python",
   "name": "python3"
  },
  "language_info": {
   "codemirror_mode": {
    "name": "ipython",
    "version": 3
   },
   "file_extension": ".py",
   "mimetype": "text/x-python",
   "name": "python",
   "nbconvert_exporter": "python",
   "pygments_lexer": "ipython3",
   "version": "3.9.10"
  },
  "toc-autonumbering": false,
  "toc-showcode": false,
  "toc-showmarkdowntxt": false,
  "toc-showtags": false
 },
 "nbformat": 4,
 "nbformat_minor": 4
}
