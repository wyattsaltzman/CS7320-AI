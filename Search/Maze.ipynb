{
 "cells": [
  {
   "cell_type": "markdown",
   "metadata": {},
   "source": [
    "# Search: Solving a Maze Using a Goal-based Agent\n",
    "\n",
    "## Instructions\n",
    "\n",
    "Total Points: Undergrads 100 / Graduate students 110\n",
    "\n",
    "Complete this notebook. Use the provided notebook cells and insert additional code and markdown cells as needed. Submit the completely rendered notebook as a PDF file. \n",
    "\n",
    "\n",
    "## Introduction\n",
    "\n",
    "The agent has a map of the maze it is in and the environment is assumed to be **deterministic, discrete, and known.** The agent must use the map to plan a path through the maze from the starting location $S$ to the goal location $G$.  This is a planing exercise for a goal-based agent, so you do not need to implement an environment, just use the map to search for a path. Once the plan is made, the agent in a deterministic environment (i.e., the transition function is deterministic with the outcome of each state/action pair fixed and no randomness) can just follow the path and does not need to care about the percepts.\n",
    "This is also called an **[open-loop system](https://en.wikipedia.org/wiki/Open-loop_controller).**\n",
    "The execution phase is trivial and we do not implement it in this exercise.\n",
    "\n",
    "Tree search algorithm implementations that you find online and used in general algorithms courses have often a different aim. These algorithms assume that you already have a tree in memory. We are interested in dynamically creating a search tree with the aim of finding a good/the best path from the root node to the goal state. Follow the pseudo code presented in the text book (and replicated in the slides) closely. Ideally, we would like to search only a small part of the maze, i.e., create a search tree with as few nodes as possible. \n",
    "\n",
    "Several mazes for this exercise are stored as text files. Here is the small example maze:"
   ]
  },
  {
   "cell_type": "code",
   "execution_count": 4,
   "metadata": {},
   "outputs": [
    {
     "name": "stdout",
     "output_type": "stream",
     "text": [
      "XXXXXXXXXXXXXXXXXXXXXX\n",
      "X XX        X X      X\n",
      "X    XXXXXX X XXXXXX X\n",
      "XXXXXX     S  X      X\n",
      "X    X XXXXXX XX XXXXX\n",
      "X XXXX X         X   X\n",
      "X        XXX XXX   X X\n",
      "XXXXXXXXXX    XXXXXX X\n",
      "XG         XX        X\n",
      "XXXXXXXXXXXXXXXXXXXXXX\n",
      "\n"
     ]
    }
   ],
   "source": [
    "with open(\"small_maze.txt\", \"r\") as f:\n",
    "    maze_str = f.read()\n",
    "print(maze_str)"
   ]
  },
  {
   "cell_type": "markdown",
   "metadata": {},
   "source": [
    "__Note:__ The mazes above contains cycles and therefore the state space may not form proper trees unless cycles are prevented. Therfore, you will need to deal with cycle detection in your code."
   ]
  },
  {
   "cell_type": "markdown",
   "metadata": {},
   "source": [
    "## Parsing and pretty printing the maze\n",
    "\n",
    "The maze can also be displayed in color using code in the module [maze_helper.py](maze_helper.py). The code parses the string representing the maze and converts it into a `numpy` 2d array which you can use in your implementation. Position are represented as a 2-tuple of the form `(row, col)`. "
   ]
  },
  {
   "cell_type": "code",
   "execution_count": 5,
   "metadata": {
    "tags": []
   },
   "outputs": [
    {
     "name": "stdout",
     "output_type": "stream",
     "text": [
      "Position(0,0): X\n",
      "Position(8,1): G\n"
     ]
    },
    {
     "data": {
      "text/plain": [
       "(3, 11)"
      ]
     },
     "execution_count": 5,
     "metadata": {},
     "output_type": "execute_result"
    }
   ],
   "source": [
    "import maze_helper as mh\n",
    "\n",
    "maze = mh.parse_maze(maze_str)\n",
    "\n",
    "# look at a position in the maze by subsetting the 2d array\n",
    "print(\"Position(0,0):\", maze[0, 0])\n",
    "\n",
    "# there is also a helper function called `look(maze, pos)` available\n",
    "# which uses a 2-tuple for the position.\n",
    "print(\"Position(8,1):\", mh.look(maze, (8, 1)))\n",
    "mh.find_pos(maze)"
   ]
  },
  {
   "cell_type": "markdown",
   "metadata": {},
   "source": [
    "A helper function to visualize the maze is also available."
   ]
  },
  {
   "cell_type": "code",
   "execution_count": 6,
   "metadata": {},
   "outputs": [
    {
     "data": {
      "image/png": "[encoded data removed]",
      "text/plain": [
       "<Figure size 432x288 with 1 Axes>"
      ]
     },
     "metadata": {
      "image/png": {
       "height": 183,
       "width": 362
      },
      "needs_background": "light"
     },
     "output_type": "display_data"
    }
   ],
   "source": [
    "%matplotlib inline\n",
    "%config InlineBackend.figure_format = 'retina'\n",
    "# use higher resolution images in notebook\n",
    "\n",
    "mh.show_maze(maze)"
   ]
  },
  {
   "cell_type": "markdown",
   "metadata": {},
   "source": [
    "Find the position of the start and the goal using the helper function `find_pos()`"
   ]
  },
  {
   "cell_type": "code",
   "execution_count": 39,
   "metadata": {},
   "outputs": [
    {
     "name": "stdout",
     "output_type": "stream",
     "text": [
      "Start location: (3, 11)\n",
      "Goal location: (8, 1)\n",
      "[['X' 'X' 'X' 'X' 'X' 'X' 'X' 'X' 'X' 'X' 'X' 'X' 'X' 'X' 'X' 'X' 'X' 'X'\n",
      "  'X' 'X' 'X' 'X']\n",
      " ['X' ' ' 'X' 'X' ' ' ' ' ' ' ' ' ' ' ' ' ' ' ' ' 'X' ' ' 'X' ' ' ' ' ' '\n",
      "  ' ' ' ' ' ' 'X']\n",
      " ['X' ' ' ' ' ' ' ' ' 'X' 'X' 'X' 'X' 'X' 'X' ' ' 'X' ' ' 'X' 'X' 'X' 'X'\n",
      "  'X' 'X' ' ' 'X']\n",
      " ['X' 'X' 'X' 'X' 'X' 'X' ' ' ' ' ' ' ' ' ' ' 'S' ' ' ' ' 'X' ' ' ' ' ' '\n",
      "  ' ' ' ' ' ' 'X']\n",
      " ['X' ' ' ' ' ' ' ' ' 'X' ' ' 'X' 'X' 'X' 'X' 'X' 'X' ' ' 'X' 'X' ' ' 'X'\n",
      "  'X' 'X' 'X' 'X']\n",
      " ['X' ' ' 'X' 'X' 'X' 'X' ' ' 'X' ' ' ' ' ' ' ' ' ' ' ' ' ' ' ' ' ' ' 'X'\n",
      "  ' ' ' ' ' ' 'X']\n",
      " ['X' ' ' ' ' ' ' ' ' ' ' ' ' ' ' ' ' 'X' 'X' 'X' ' ' 'X' 'X' 'X' ' ' ' '\n",
      "  ' ' 'X' ' ' 'X']\n",
      " ['X' 'X' 'X' 'X' 'X' 'X' 'X' 'X' 'X' 'X' ' ' ' ' ' ' ' ' 'X' 'X' 'X' 'X'\n",
      "  'X' 'X' ' ' 'X']\n",
      " ['X' 'G' ' ' ' ' ' ' ' ' ' ' ' ' ' ' ' ' ' ' 'X' 'X' ' ' ' ' ' ' ' ' ' '\n",
      "  ' ' ' ' ' ' 'X']\n",
      " ['X' 'X' 'X' 'X' 'X' 'X' 'X' 'X' 'X' 'X' 'X' 'X' 'X' 'X' 'X' 'X' 'X' 'X'\n",
      "  'X' 'X' 'X' 'X']]\n"
     ]
    },
    {
     "data": {
      "text/plain": [
       "' '"
      ]
     },
     "execution_count": 39,
     "metadata": {},
     "output_type": "execute_result"
    }
   ],
   "source": [
    "print(\"Start location:\", mh.find_pos(maze, what = \"S\"))\n",
    "print(\"Goal location:\", mh.find_pos(maze, what = \"G\"))\n",
    "print(maze)\n",
    "mh.look(maze, (1,5))"
   ]
  },
  {
   "cell_type": "markdown",
   "metadata": {},
   "source": [
    "Helper function documentation."
   ]
  },
  {
   "cell_type": "code",
   "execution_count": 5,
   "metadata": {},
   "outputs": [
    {
     "name": "stdout",
     "output_type": "stream",
     "text": [
      "Help on module maze_helper:\n",
      "\n",
      "NAME\n",
      "    maze_helper\n",
      "\n",
      "DESCRIPTION\n",
      "    Code for the Maze Assignment by Michael Hahsler\n",
      "    Usage: \n",
      "        import maze_helper as mh\n",
      "        mh.show_some_mazes()\n",
      "\n",
      "FUNCTIONS\n",
      "    find_pos(maze, what='S')\n",
      "        Find start/goal in a maze and returns the first one. \n",
      "        Caution: there is no error checking!\n",
      "        \n",
      "        Parameters:\n",
      "        maze: a array with characters prodced by parse_maze()\n",
      "        what: the letter to be found ('S' for start and 'G' for goal)\n",
      "        \n",
      "        Returns:\n",
      "        a tupple (x, y) for the found position.\n",
      "    \n",
      "    look(maze, pos)\n",
      "        Look at the label of a square with the position as an array of the form (x, y).\n",
      "    \n",
      "    parse_maze(maze_str)\n",
      "        Convert a maze as a string into a 2d numpy array\n",
      "    \n",
      "    show_maze(maze, fontsize=10)\n",
      "        Display a (parsed) maze as an image.\n",
      "    \n",
      "    welcome()\n",
      "        Welcome message.\n",
      "\n",
      "FILE\n",
      "    /home/jovyan/CS7320-AI/Search/maze_helper.py\n",
      "\n",
      "\n"
     ]
    }
   ],
   "source": [
    "help(mh)"
   ]
  },
  {
   "cell_type": "markdown",
   "metadata": {},
   "source": [
    "## Tree structure\n",
    "\n",
    "Here is an implementation of the basic node structure for the search algorithms (see Fig 3.7 on page 73). I have added a method that extracts the path from the root node to the current node. It can be used to get the path when the search is completed."
   ]
  },
  {
   "cell_type": "code",
   "execution_count": 70,
   "metadata": {},
   "outputs": [],
   "source": [
    "class Node:\n",
    "    def __init__(self, pos, parent, action, cost, h_val = None):\n",
    "        self.pos = tuple(pos)    # the state; positions are (row,col)\n",
    "        self.parent = parent     # reference to parent node. None means root node.\n",
    "        self.action = action     # action used in the transition function (root node has None)\n",
    "        self.cost = cost         # for uniform cost this is the depth. It is also g(n) for A* search\n",
    "        self.h_val = h_val\n",
    "\n",
    "    def __str__(self):\n",
    "        return f\"Node - pos = {self.pos}; action = {self.action}; cost = {self.cost}; h_val = {self.h_val};\"\n",
    "    # needed so the priority queue works in Node Object\n",
    "    # def __lt__(self, other):\n",
    "    #     selfPriority = (self.cost, self.hval)\n",
    "    #     otherPriority = (other.cost, self.hval)\n",
    "    #     return selfPriority < otherPriority\n",
    "\n",
    "    def get_path_from_root(self):\n",
    "        \"\"\"returns nodes on the path from the root to the current node.\"\"\"\n",
    "        node = self\n",
    "        path = [node]\n",
    "    \n",
    "        while not node.parent is None:\n",
    "            node = node.parent\n",
    "            path.append(node)\n",
    "        \n",
    "        path.reverse()\n",
    "        \n",
    "        return(path)"
   ]
  },
  {
   "cell_type": "markdown",
   "metadata": {},
   "source": [
    "If needed, then you can add more fields to the class like the heuristic value $h(n)$ or $f(n)$.\n",
    "\n",
    "Examples for how to create and use a tree and information on memory management can be found [here](../Python_Code_Examples/trees.ipynb)."
   ]
  },
  {
   "cell_type": "markdown",
   "metadata": {},
   "source": [
    "# Tasks\n",
    "\n",
    "The goal is to:\n",
    "\n",
    "1. Implement the following search algorithms for solving different mazes:\n",
    "\n",
    "    - Breadth-first search (BFS)\n",
    "    - Depth-first search (DFS)\n",
    "    - Greedy best-first search (GBFS)\n",
    "    - A* search\n",
    "\n",
    "2. Run each of the above algorithms on the \n",
    "    - [small maze](small_maze.txt), \n",
    "    - [medium maze](medium_maze.txt), \n",
    "    - [large maze](large_maze.txt), \n",
    "    - [open maze](open_maze.txt),\n",
    "    - [wall maze](wall_maze.txt),\n",
    "    - [loops maze](loops_maze.txt),\n",
    "    - [empty maze](empty_maze.txt), and\n",
    "    - [empty 2_maze](empty_2_maze.txt).\n",
    "    \n",
    "3. For each problem instance and each search algorithm, report the following in a table:\n",
    "\n",
    "    - The solution and its path cost\n",
    "    - Total number of nodes expanded\n",
    "    - Maximum tree depth\n",
    "    - Maximum size of the frontier\n",
    "\n",
    "4. Display each solution by marking every maze square (or state) visited and the squares on the final path.\n",
    "\n",
    "## General [10 Points]\n",
    "\n",
    "1. Make sure that you use the latest version of this notebook. Sync your forked repository and pull the latest revision. \n",
    "2. Your implementation can use libraries like math, numpy, scipy, but not libraries that implement inteligent agents or complete search algorithms. Try to keep the code simple! In this course, we want to learn about the algorithms and we often do not need to use object-oriented design.\n",
    "3. You notebook needs to be formated professionally. \n",
    "    - Add additional markdown blocks for your description, comments in the code, add tables and use mathplotlib to produce charts where appropriate\n",
    "    - Do not show debugging output or include an excessive amount of output.\n",
    "    - Check that your PDF file is readable. For example, long lines are cut off in the PDF file. You don't have control over page breaks, so do not worry about these.\n",
    "4. Document your code. Add a short discussion of how your implementation works and your design choices."
   ]
  },
  {
   "cell_type": "markdown",
   "metadata": {},
   "source": [
    "## Task 1: Defining the search problem and determining the problem size [10 Points]\n",
    "\n",
    "Define the components of the search problem:\n",
    "\n",
    "* Initial state\n",
    "* Actions\n",
    "* Transition model\n",
    "* Goal state\n",
    "* Path cost\n",
    "\n",
    "Use verbal descriptions, variables and equations as appropriate. \n",
    "\n",
    "*Note:* You can swich the next block from code to Markdown and use formating."
   ]
  },
  {
   "cell_type": "markdown",
   "metadata": {},
   "source": [
    "#### Answer\n",
    "- initial state = the starting position, S, in the maze\n",
    "- actions = the different ways an agent can change states so in this case moving to an adjacent position in the maze\n",
    "- transition model = \n",
    "- Goal state = is reaching the end of the maze or the G\n",
    "- Path cost = every time you move to a new position it costs 1"
   ]
  },
  {
   "cell_type": "markdown",
   "metadata": {},
   "source": [
    "Give some estimates for the problem size:\n",
    "\n",
    "* $n$: state space size\n",
    "* $d$: depth of the optimal solution\n",
    "* $m$: maximum depth of tree\n",
    "* $b$: maximum branching factor\n",
    "\n",
    "Describe how you would determin these values for a given maze."
   ]
  },
  {
   "cell_type": "code",
   "execution_count": 8,
   "metadata": {},
   "outputs": [],
   "source": [
    "# Your answer goes here\n"
   ]
  },
  {
   "cell_type": "markdown",
   "metadata": {},
   "source": [
    "## Task 2: Uninformed search: Breadth-first and depth-first [40 Points]\n",
    "\n",
    "Implement these search strategies. Follow the pseudocode in the textbook/slides. You can use the tree structure shown above to extract the final path from your solution.\n",
    "\n",
    "__Notes:__\n",
    "* You can find maze solving implementations online that use the map to store information. While this is an effective idea for this two-dimensional navigation problem, it typically cannot be used for other search problems. Therefore, follow the textbook and only store information in the tree created during search, and use the `reached` and `frontier` data structures.\n",
    "* DSF can be implemented using the BFS tree search algorithm and simply changing the order in which the frontier is expanded (this is equivalent to best-first search with path length as the criterion to expand the next node). However, to take advantage of the significantly smaller memory footprint of DFS, you need to implement DFS in a different way without a `reached` data structure and by releasing the memory for nodes that are not needed anymore. \n",
    "* If DFS does not use a `reached` data structure, then its cycle checking abilities are limited. Remember, that DSF is incomplete if cycles cannot be prevented. You will see in your experiments that open spaces are a problem."
   ]
  },
  {
   "cell_type": "code",
   "execution_count": 29,
   "metadata": {},
   "outputs": [],
   "source": [
    "# Your code goes here\n",
    "import collections\n",
    "def BFS(problem):\n",
    "    node = Node(mh.find_pos(problem), None, 'None', 0)\n",
    "    goal = Node(mh.find_pos(problem, 'G'), None, 'None', 0)\n",
    "    frontier = collections.deque([node])\n",
    "    if(node.pos == goal.pos): return node\n",
    "    reached = {node}\n",
    "    while frontier.__len__() > 0:\n",
    "        node = frontier.popleft()\n",
    "        for child in expand(problem, node):\n",
    "            s = child.pos\n",
    "            if(s == goal.pos): return child\n",
    "            if(s not in reached):\n",
    "                reached.add(s)\n",
    "                frontier.append(child)\n",
    "    return \"mission failed you'll get'em next time\"\n"
   ]
  },
  {
   "cell_type": "code",
   "execution_count": 98,
   "metadata": {},
   "outputs": [
    {
     "name": "stdout",
     "output_type": "stream",
     "text": [
      "deadend (3, 12)\n",
      "deadend (3, 13)\n",
      "deadend (3, 10)\n",
      "deadend (1, 11)\n",
      "deadend (2, 11)\n"
     ]
    },
    {
     "ename": "IndexError",
     "evalue": "pop from an empty deque",
     "output_type": "error",
     "traceback": [
      "\u001b[0;31m---------------------------------------------------------------------------\u001b[0m",
      "\u001b[0;31mIndexError\u001b[0m                                Traceback (most recent call last)",
      "\u001b[1;32m/Users/wyattsaltzman/AI Class/CS7320-AI/Search/Maze.ipynb Cell 22'\u001b[0m in \u001b[0;36m<module>\u001b[0;34m\u001b[0m\n\u001b[1;32m     <a href='vscode-notebook-cell:/Users/wyattsaltzman/AI%20Class/CS7320-AI/Search/Maze.ipynb#ch0000050?line=23'>24</a>\u001b[0m                 frontier\u001b[39m.\u001b[39mappendleft(child)\n\u001b[1;32m     <a href='vscode-notebook-cell:/Users/wyattsaltzman/AI%20Class/CS7320-AI/Search/Maze.ipynb#ch0000050?line=24'>25</a>\u001b[0m     \u001b[39mreturn\u001b[39;00m result\n\u001b[0;32m---> <a href='vscode-notebook-cell:/Users/wyattsaltzman/AI%20Class/CS7320-AI/Search/Maze.ipynb#ch0000050?line=25'>26</a>\u001b[0m ween \u001b[39m=\u001b[39m DFS(maze)\n",
      "\u001b[1;32m/Users/wyattsaltzman/AI Class/CS7320-AI/Search/Maze.ipynb Cell 22'\u001b[0m in \u001b[0;36mDFS\u001b[0;34m(problem)\u001b[0m\n\u001b[1;32m     <a href='vscode-notebook-cell:/Users/wyattsaltzman/AI%20Class/CS7320-AI/Search/Maze.ipynb#ch0000050?line=18'>19</a>\u001b[0m \u001b[39mif\u001b[39;00m check: \n\u001b[1;32m     <a href='vscode-notebook-cell:/Users/wyattsaltzman/AI%20Class/CS7320-AI/Search/Maze.ipynb#ch0000050?line=19'>20</a>\u001b[0m     \u001b[39mprint\u001b[39m(\u001b[39m'\u001b[39m\u001b[39mdeadend\u001b[39m\u001b[39m'\u001b[39m, node\u001b[39m.\u001b[39mpos)\n\u001b[0;32m---> <a href='vscode-notebook-cell:/Users/wyattsaltzman/AI%20Class/CS7320-AI/Search/Maze.ipynb#ch0000050?line=20'>21</a>\u001b[0m     node \u001b[39m=\u001b[39m frontier\u001b[39m.\u001b[39;49mpopleft()\n\u001b[1;32m     <a href='vscode-notebook-cell:/Users/wyattsaltzman/AI%20Class/CS7320-AI/Search/Maze.ipynb#ch0000050?line=21'>22</a>\u001b[0m \u001b[39mif\u001b[39;00m \u001b[39mnot\u001b[39;00m check:\n\u001b[1;32m     <a href='vscode-notebook-cell:/Users/wyattsaltzman/AI%20Class/CS7320-AI/Search/Maze.ipynb#ch0000050?line=22'>23</a>\u001b[0m     \u001b[39mfor\u001b[39;00m child \u001b[39min\u001b[39;00m expand(problem, node):\n",
      "\u001b[0;31mIndexError\u001b[0m: pop from an empty deque"
     ]
    }
   ],
   "source": [
    "def is_cycle(path, position):\n",
    "    for child in path:\n",
    "        if (child.pos == position): return True\n",
    "    return False\n",
    "def DFS(problem):\n",
    "    node = Node(mh.find_pos(problem), None, 'None', 0)\n",
    "    goal = Node(mh.find_pos(problem, 'G'), None, 'None', 0)\n",
    "    frontier = collections.deque([node])\n",
    "    result = 'failure'\n",
    "    while frontier.__len__() > 0:\n",
    "        node = frontier.popleft()\n",
    "        if(node.pos == goal.pos): return node\n",
    "        if(node.parent == None): \n",
    "            for child in expand(problem, node):\n",
    "                frontier.appendleft(child)\n",
    "            continue\n",
    "        path = node.parent.get_path_from_root()\n",
    "        check = is_cycle(path, node.pos)\n",
    "        if check: \n",
    "            print('deadend', node.pos)\n",
    "            node = frontier.popleft()\n",
    "        if not check:\n",
    "            for child in expand(problem, node):\n",
    "                frontier.appendleft(child)\n",
    "    return result\n",
    "ween = DFS(maze)"
   ]
  },
  {
   "cell_type": "code",
   "execution_count": 64,
   "metadata": {},
   "outputs": [
    {
     "data": {
      "image/png": "[encoded data removed]",
      "text/plain": [
       "<Figure size 432x288 with 1 Axes>"
      ]
     },
     "metadata": {
      "image/png": {
       "height": 183,
       "width": 362
      },
      "needs_background": "light"
     },
     "output_type": "display_data"
    }
   ],
   "source": [
    "mh.show_maze(maze)"
   ]
  },
  {
   "cell_type": "code",
   "execution_count": 4,
   "metadata": {},
   "outputs": [],
   "source": [
    "def expand(problem, node):\n",
    "    actions = []\n",
    "    s = node.pos\n",
    "    down  = (s[0]+1,s[1])\n",
    "    up    = (s[0]-1,s[1])\n",
    "    left  = (s[0],s[1]-1)\n",
    "    right = (s[0], s[1]+1)\n",
    "    if(mh.look(problem, up) == 'G'):\n",
    "        actions.append(Node(up, node, 'finshed', node.cost+1))\n",
    "    if(mh.look(problem, up) == ' '):\n",
    "        temp = Node(up, node, 'up', node.cost+1)\n",
    "        actions.append(temp)\n",
    "    if(mh.look(problem, down) == 'G'):\n",
    "        actions.append(Node(down, node, 'finshed', node.cost+1))\n",
    "    if(mh.look(problem, down) == ' '):\n",
    "        temp = Node(down, node, 'down', node.cost+1)\n",
    "        actions.append(temp)\n",
    "    if(mh.look(problem, left) == 'G'):\n",
    "        actions.append(Node(left, node, 'finshed', node.cost+1))\n",
    "    if(mh.look(problem, left) == ' '):\n",
    "        temp = Node(left, node, 'left', node.cost+1)\n",
    "        actions.append(temp)\n",
    "    if(mh.look(problem, right) == 'G'):\n",
    "        actions.append(Node(right, node, 'finshed', node.cost+1))\n",
    "    if(mh.look(problem, right) == ' '):\n",
    "        temp = Node(right, node, 'right', node.cost+1)\n",
    "        actions.append(temp)\n",
    "    return actions"
   ]
  },
  {
   "cell_type": "code",
   "execution_count": 138,
   "metadata": {},
   "outputs": [
    {
     "name": "stdout",
     "output_type": "stream",
     "text": [
      "Node - pos = (8, 1); action = finshed; cost = 19\n",
      "Node - pos = (8, 1); action = finshed; cost = 19\n",
      "20\n",
      "(3, 11)\n",
      "(3, 12)\n",
      "(3, 13)\n",
      "(4, 13)\n",
      "(5, 13)\n",
      "(5, 12)\n",
      "(6, 12)\n",
      "(7, 12)\n",
      "(7, 11)\n",
      "(7, 10)\n",
      "(8, 10)\n",
      "(8, 9)\n",
      "(8, 8)\n",
      "(8, 7)\n",
      "(8, 6)\n",
      "(8, 5)\n",
      "(8, 4)\n",
      "(8, 3)\n",
      "(8, 2)\n",
      "(8, 1)\n"
     ]
    }
   ],
   "source": [
    "path = BFS(maze)\n",
    "print(path.__str__())\n",
    "x= path.get_path_from_root()\n",
    "print(x[len(x)-1])\n",
    "print(len(x))\n",
    "for i in x:\n",
    "    print(i.pos)"
   ]
  },
  {
   "cell_type": "code",
   "execution_count": 79,
   "metadata": {},
   "outputs": [
    {
     "name": "stdout",
     "output_type": "stream",
     "text": [
      "(3, 12)\n",
      "(3, 10)\n",
      "(2, 11)\n",
      "False\n"
     ]
    }
   ],
   "source": [
    "node = Node(mh.find_pos(maze), None, 'None', 0)\n",
    "goal = Node(mh.find_pos(maze, 'G'), None, 'None', 0)\n",
    "lifo = collections.deque()\n",
    "nodes = expand(maze, node)\n",
    "for child in nodes:\n",
    "    lifo.appendleft(child)\n",
    "for i in lifo:\n",
    "    print(i.pos)\n",
    "test = lifo.popleft()\n",
    "if test in lifo: print(True)\n",
    "else: print(False)"
   ]
  },
  {
   "cell_type": "code",
   "execution_count": null,
   "metadata": {},
   "outputs": [],
   "source": [
    "def DFS(problem):\n",
    "    node = Node(mh.find_pos(problem), None, 'None', 0)\n",
    "    goal = mh.find_pos(problem, 'G')\n",
    "    frontier = collections.deque([node]) #created lifo queue and inserted initial node\n",
    "    result = 'failure'\n",
    "    while not frontier:\n",
    "        node = frontier.popleft()\n",
    "        if(node.pos == goal): return node\n",
    "        "
   ]
  },
  {
   "cell_type": "markdown",
   "metadata": {},
   "source": [
    "How does BFS and DFS deal with loops (cycles)?"
   ]
  },
  {
   "cell_type": "code",
   "execution_count": 10,
   "metadata": {},
   "outputs": [],
   "source": [
    "# Discussion"
   ]
  },
  {
   "cell_type": "markdown",
   "metadata": {},
   "source": [
    "Are your implementations complete and optimal? Explain why. What is the time and space complexity of each of **your** implementations?"
   ]
  },
  {
   "cell_type": "code",
   "execution_count": 11,
   "metadata": {},
   "outputs": [],
   "source": [
    "# Discussion"
   ]
  },
  {
   "cell_type": "markdown",
   "metadata": {},
   "source": [
    "## Task 3: Informed search: Implement greedy best-first search and A* search  [20 Points]\n",
    "\n",
    "You can use the map to estimate the distance from your current position to the goal using the Manhattan distance (see https://en.wikipedia.org/wiki/Taxicab_geometry) as a heuristic function. Both algorithms are based on Best-First search which requires only a small change from the BFS algorithm you have already implemented (see textbook/slides). "
   ]
  },
  {
   "cell_type": "code",
   "execution_count": 77,
   "metadata": {},
   "outputs": [],
   "source": [
    "with open(\"small_maze.txt\", \"r\") as f:\n",
    "    maze_str = f.read()\n",
    "maze = mh.parse_maze(maze_str)"
   ]
  },
  {
   "cell_type": "code",
   "execution_count": 76,
   "metadata": {},
   "outputs": [
    {
     "name": "stdout",
     "output_type": "stream",
     "text": [
      "Node - pos = (3, 11); action = None; cost = 0; h_val = 0;\n",
      "Node - pos = (3, 10); action = east; cost = 1; h_val = 14;\n",
      "Node - pos = (3, 9); action = east; cost = 2; h_val = 13;\n",
      "Node - pos = (3, 8); action = east; cost = 3; h_val = 12;\n",
      "Node - pos = (3, 7); action = east; cost = 4; h_val = 11;\n",
      "Node - pos = (3, 6); action = east; cost = 5; h_val = 10;\n",
      "Node - pos = (4, 6); action = south; cost = 6; h_val = 9;\n",
      "Node - pos = (5, 6); action = south; cost = 7; h_val = 8;\n",
      "Node - pos = (6, 6); action = south; cost = 8; h_val = 7;\n",
      "Node - pos = (6, 5); action = east; cost = 9; h_val = 6;\n",
      "Node - pos = (6, 4); action = east; cost = 10; h_val = 5;\n",
      "Node - pos = (6, 3); action = east; cost = 11; h_val = 4;\n",
      "Node - pos = (6, 2); action = east; cost = 12; h_val = 3;\n",
      "Node - pos = (6, 1); action = east; cost = 13; h_val = 2;\n",
      "Node - pos = (5, 1); action = north; cost = 14; h_val = 3;\n",
      "Node - pos = (4, 1); action = north; cost = 15; h_val = 4;\n",
      "Node - pos = (4, 2); action = west; cost = 16; h_val = 5;\n",
      "Node - pos = (4, 3); action = west; cost = 17; h_val = 6;\n",
      "Node - pos = (4, 4); action = west; cost = 18; h_val = 7;\n",
      "Node - pos = (6, 7); action = west; cost = 9; h_val = 8;\n",
      "Node - pos = (6, 8); action = west; cost = 10; h_val = 9;\n",
      "Node - pos = (5, 8); action = north; cost = 11; h_val = 10;\n",
      "Node - pos = (5, 9); action = west; cost = 12; h_val = 11;\n",
      "Node - pos = (5, 10); action = west; cost = 13; h_val = 12;\n",
      "Node - pos = (5, 11); action = west; cost = 14; h_val = 13;\n",
      "Node - pos = (5, 12); action = west; cost = 15; h_val = 14;\n",
      "Node - pos = (6, 12); action = south; cost = 16; h_val = 13;\n",
      "Node - pos = (7, 12); action = south; cost = 17; h_val = 12;\n",
      "Node - pos = (7, 11); action = east; cost = 18; h_val = 11;\n",
      "Node - pos = (7, 10); action = east; cost = 19; h_val = 10;\n",
      "Node - pos = (8, 10); action = south; cost = 20; h_val = 9;\n",
      "Node - pos = (8, 9); action = east; cost = 21; h_val = 8;\n",
      "Node - pos = (8, 8); action = east; cost = 22; h_val = 7;\n",
      "Node - pos = (8, 7); action = east; cost = 23; h_val = 6;\n",
      "Node - pos = (8, 6); action = east; cost = 24; h_val = 5;\n",
      "Node - pos = (8, 5); action = east; cost = 25; h_val = 4;\n",
      "Node - pos = (8, 4); action = east; cost = 26; h_val = 3;\n",
      "Node - pos = (8, 3); action = east; cost = 27; h_val = 2;\n",
      "Node - pos = (8, 2); action = east; cost = 28; h_val = 1;\n",
      "Node - pos = (8, 1); action = east; cost = 29; h_val = 0;\n",
      "Nodes Expanded 81\n",
      "Cost 29\n",
      "Max Frontier 6\n",
      "Max Depth 29\n",
      "Tree Size 82\n"
     ]
    },
    {
     "data": {
      "image/png": "[encoded data removed]",
      "text/plain": [
       "<Figure size 432x288 with 1 Axes>"
      ]
     },
     "metadata": {
      "image/png": {
       "height": 183,
       "width": 362
      },
      "needs_background": "light"
     },
     "output_type": "display_data"
    }
   ],
   "source": [
    "# Your code goes here\n",
    "def greedyBFS(problem):\n",
    "    frontier_size = 0\n",
    "    tree_size = 0 \n",
    "    nodes_expanded = 0\n",
    "    max_frontier = 1\n",
    "    root = Node(mh.find_pos(problem), None, None, 0, 0)\n",
    "    goal = mh.find_pos(problem, 'G')\n",
    "    frontier = []\n",
    "    frontier.append((root.cost, root))\n",
    "    frontier_size = frontier_size + 1\n",
    "    frontier.sort(key=lambda i: i[0])\n",
    "    reached = {}\n",
    "    tree_size += 1\n",
    "    while len(frontier) > 0:\n",
    "        node = frontier.pop(0)[1]\n",
    "        frontier_size = frontier_size - 1\n",
    "        if node.pos == goal: \n",
    "            max_depth=0\n",
    "            cost=0\n",
    "            child = node\n",
    "            while child != root:\n",
    "                max_depth = max_depth + 1\n",
    "                x=child.pos[0]\n",
    "                y=child.pos[1]\n",
    "                if(problem[x, y] != 'G'):\n",
    "                    problem[x][y]=4\n",
    "                cost = node.cost #maybe change\n",
    "                child = child.parent\n",
    "            print(f'Nodes Expanded '+ str(nodes_expanded))\n",
    "            print(f'Cost '+ str(cost))\n",
    "            print(f'Max Frontier '+str(max_frontier))\n",
    "            print(f'Max Depth '+ str(max_depth))\n",
    "            print(f'Tree Size '+str(tree_size))\n",
    "            mh.show_maze(problem)\n",
    "            return node\n",
    "        leaves=expandGreedy(problem,node,goal)\n",
    "        tree_size=tree_size+len(leaves)\n",
    "        for child in leaves:\n",
    "            nodes_expanded = nodes_expanded + 1\n",
    "            s = child[1].pos\n",
    "            if s not in reached or child[1].cost < reached[s].cost:\n",
    "                reached[s] = child[1]\n",
    "                frontier_size += 1\n",
    "                if problem[s[0],s[1]] == ' ':\n",
    "                    problem[s[0]][s[1]] = '.'\n",
    "                frontier.append((child[0],child[1]))\n",
    "                frontier.sort(key = lambda i: i[0])\n",
    "            if frontier_size > max_frontier:\n",
    "                max_frontier = frontier_size\n",
    "    return 'failed'\n",
    "ween = greedyBFS(maze)"
   ]
  },
  {
   "cell_type": "code",
   "execution_count": 78,
   "metadata": {},
   "outputs": [
    {
     "name": "stdout",
     "output_type": "stream",
     "text": [
      "Node - pos = (3, 11); action = None; cost = 0; h_val = 0;\n",
      "Node - pos = (3, 10); action = east; cost = 1; h_val = 15;\n",
      "Node - pos = (3, 9); action = east; cost = 2; h_val = 15;\n",
      "Node - pos = (3, 8); action = east; cost = 3; h_val = 15;\n",
      "Node - pos = (3, 7); action = east; cost = 4; h_val = 15;\n",
      "Node - pos = (3, 6); action = east; cost = 5; h_val = 15;\n",
      "Node - pos = (4, 6); action = south; cost = 6; h_val = 15;\n",
      "Node - pos = (5, 6); action = south; cost = 7; h_val = 15;\n",
      "Node - pos = (6, 6); action = south; cost = 8; h_val = 15;\n",
      "Node - pos = (6, 5); action = east; cost = 9; h_val = 15;\n",
      "Node - pos = (6, 4); action = east; cost = 10; h_val = 15;\n",
      "Node - pos = (6, 3); action = east; cost = 11; h_val = 15;\n",
      "Node - pos = (6, 2); action = east; cost = 12; h_val = 15;\n",
      "Node - pos = (6, 1); action = east; cost = 13; h_val = 15;\n",
      "Node - pos = (2, 11); action = north; cost = 1; h_val = 17;\n",
      "Node - pos = (3, 12); action = west; cost = 1; h_val = 17;\n",
      "Node - pos = (3, 11); action = west; cost = 2; h_val = 17;\n",
      "Node - pos = (6, 7); action = west; cost = 9; h_val = 17;\n",
      "Node - pos = (5, 1); action = north; cost = 14; h_val = 17;\n",
      "Node - pos = (1, 11); action = north; cost = 2; h_val = 19;\n",
      "Node - pos = (3, 13); action = west; cost = 2; h_val = 19;\n",
      "Node - pos = (6, 8); action = west; cost = 10; h_val = 19;\n",
      "Node - pos = (4, 1); action = north; cost = 15; h_val = 19;\n",
      "Node - pos = (1, 10); action = east; cost = 3; h_val = 19;\n",
      "Node - pos = (4, 13); action = south; cost = 3; h_val = 19;\n",
      "Node - pos = (1, 9); action = east; cost = 4; h_val = 19;\n",
      "Node - pos = (5, 13); action = south; cost = 4; h_val = 19;\n",
      "Node - pos = (1, 8); action = east; cost = 5; h_val = 19;\n",
      "Node - pos = (5, 12); action = east; cost = 5; h_val = 19;\n",
      "Node - pos = (1, 7); action = east; cost = 6; h_val = 19;\n",
      "Node - pos = (6, 12); action = south; cost = 6; h_val = 19;\n",
      "Node - pos = (5, 11); action = east; cost = 6; h_val = 19;\n",
      "Node - pos = (1, 6); action = east; cost = 7; h_val = 19;\n",
      "Node - pos = (7, 12); action = south; cost = 7; h_val = 19;\n",
      "Node - pos = (5, 10); action = east; cost = 7; h_val = 19;\n",
      "Node - pos = (1, 5); action = east; cost = 8; h_val = 19;\n",
      "Node - pos = (7, 11); action = east; cost = 8; h_val = 19;\n",
      "Node - pos = (5, 9); action = east; cost = 8; h_val = 19;\n",
      "Node - pos = (1, 4); action = east; cost = 9; h_val = 19;\n",
      "Node - pos = (7, 10); action = east; cost = 9; h_val = 19;\n",
      "Node - pos = (5, 8); action = east; cost = 9; h_val = 19;\n",
      "Node - pos = (2, 4); action = south; cost = 10; h_val = 19;\n",
      "Node - pos = (8, 10); action = south; cost = 10; h_val = 19;\n",
      "Node - pos = (2, 3); action = east; cost = 11; h_val = 19;\n",
      "Node - pos = (8, 9); action = east; cost = 11; h_val = 19;\n",
      "Node - pos = (2, 2); action = east; cost = 12; h_val = 19;\n",
      "Node - pos = (8, 8); action = east; cost = 12; h_val = 19;\n",
      "Node - pos = (2, 1); action = east; cost = 13; h_val = 19;\n",
      "Node - pos = (8, 7); action = east; cost = 13; h_val = 19;\n",
      "Node - pos = (8, 6); action = east; cost = 14; h_val = 19;\n",
      "Node - pos = (8, 5); action = east; cost = 15; h_val = 19;\n",
      "Node - pos = (8, 4); action = east; cost = 16; h_val = 19;\n",
      "Node - pos = (8, 3); action = east; cost = 17; h_val = 19;\n",
      "Node - pos = (8, 2); action = east; cost = 18; h_val = 19;\n",
      "Node - pos = (8, 1); action = east; cost = 19; h_val = 19;\n",
      "Nodes Expanded 115\n",
      "Cost 19\n",
      "Max Frontier 8\n",
      "Max Depth 19\n",
      "Tree Size 116\n"
     ]
    },
    {
     "data": {
      "image/png": "[encoded data removed]",
      "text/plain": [
       "<Figure size 432x288 with 1 Axes>"
      ]
     },
     "metadata": {
      "image/png": {
       "height": 183,
       "width": 362
      },
      "needs_background": "light"
     },
     "output_type": "display_data"
    }
   ],
   "source": [
    "# Your code goes here\n",
    "def aStar(problem):\n",
    "    frontier_size = 0\n",
    "    tree_size = 0 \n",
    "    nodes_expanded = 0\n",
    "    max_frontier = 1\n",
    "    root = Node(mh.find_pos(problem), None, None, 0, 0)\n",
    "    goal = mh.find_pos(problem, 'G')\n",
    "    frontier = []\n",
    "    frontier.append((root.cost, root))\n",
    "    frontier_size = frontier_size + 1\n",
    "    frontier.sort(key=lambda i: i[0])\n",
    "    reached = {}\n",
    "    tree_size += 1\n",
    "    while len(frontier) > 0:\n",
    "        node = frontier.pop(0)[1]\n",
    "        frontier_size = frontier_size - 1\n",
    "        if node.pos == goal: \n",
    "            max_depth=0\n",
    "            cost=0\n",
    "            child = node\n",
    "            while child != root:\n",
    "                max_depth = max_depth + 1\n",
    "                x=child.pos[0]\n",
    "                y=child.pos[1]\n",
    "                if(problem[x, y] != 'G'):\n",
    "                    problem[x][y]=4\n",
    "                cost = node.cost #maybe change\n",
    "                child = child.parent\n",
    "            print(f'Nodes Expanded '+ str(nodes_expanded))\n",
    "            print(f'Cost '+ str(cost))\n",
    "            print(f'Max Frontier '+str(max_frontier))\n",
    "            print(f'Max Depth '+ str(max_depth))\n",
    "            print(f'Tree Size '+str(tree_size))\n",
    "            mh.show_maze(problem)\n",
    "            return node\n",
    "        leaves=expandStar(problem,node,goal)\n",
    "        tree_size=tree_size+len(leaves)\n",
    "        for child in leaves:\n",
    "            nodes_expanded = nodes_expanded + 1\n",
    "            s = child[1].pos\n",
    "            if s not in reached or child[1].cost < reached[s].cost:\n",
    "                reached[s] = child[1]\n",
    "                frontier_size += 1\n",
    "                if problem[s[0],s[1]] == ' ':\n",
    "                    problem[s[0]][s[1]] = '.'\n",
    "                frontier.append((child[0],child[1]))\n",
    "                frontier.sort(key = lambda i: i[0])\n",
    "            if frontier_size > max_frontier:\n",
    "                max_frontier = frontier_size\n",
    "    return 'failed'\n",
    "x = aStar(maze)"
   ]
  },
  {
   "cell_type": "code",
   "execution_count": 32,
   "metadata": {},
   "outputs": [],
   "source": [
    "def expandGreedy(problem, node, goal):\n",
    "    moves=[]\n",
    "    north=problem[int(node.pos[0]-1)][int(node.pos[1])]\n",
    "    if north!='X':\n",
    "        N=Node((int(node.pos[0]-1),int(node.pos[1])),node, 'north', node.cost+1, \n",
    "        get_manhattan_distance(node,(int(node.pos[0]-1)),int(node.pos[1]),goal))\n",
    "        moves.append((N.h_val,N))\n",
    "    south=problem[int(node.pos[0]+1)][int(node.pos[1])]\n",
    "    if south!='X':\n",
    "        S=Node((int(node.pos[0]+1),int(node.pos[1])),node, 'south', node.cost+1,\n",
    "        get_manhattan_distance(node,(int(node.pos[0]+1)),int(node.pos[1]), goal))\n",
    "        moves.append((S.h_val,S))\n",
    "    east=problem[int(node.pos[0])][int(node.pos[1]-1)]\n",
    "    if east!='X':\n",
    "        E=Node((int(node.pos[0]),int(node.pos[1]-1)),node, 'east', node.cost+1,\n",
    "        get_manhattan_distance(node,(int(node.pos[0])),int(node.pos[1]-1), goal))\n",
    "        moves.append((E.h_val,E))\n",
    "    west=problem[int(node.pos[0])][int(node.pos[1]+1)]\n",
    "    if west!='X':\n",
    "        W=Node((int(node.pos[0]),int(node.pos[1]+1)),node,'west', node.cost+1,\n",
    "        get_manhattan_distance(node,(int(node.pos[0])),int(node.pos[1]+1), goal))\n",
    "        moves.append((W.h_val,W))\n",
    "    moves.sort(key = lambda i: i[0])\n",
    "    return moves\n",
    "def expandStar(problem, node, goal):\n",
    "    moves=[]\n",
    "    north=problem[int(node.pos[0]-1)][int(node.pos[1])]\n",
    "    if north!='X':\n",
    "        N=Node((int(node.pos[0]-1),int(node.pos[1])),node, 'north', node.cost+1, \n",
    "        get_manhattan_distance(node,(int(node.pos[0]-1)),int(node.pos[1]),goal) + node.cost+1)\n",
    "        moves.append((N.h_val,N))\n",
    "    south=problem[int(node.pos[0]+1)][int(node.pos[1])]\n",
    "    if south!='X':\n",
    "        S=Node((int(node.pos[0]+1),int(node.pos[1])),node, 'south', node.cost+1,\n",
    "        get_manhattan_distance(node,(int(node.pos[0]+1)),int(node.pos[1]), goal) + node.cost+1)\n",
    "        moves.append((S.h_val,S))\n",
    "    east=problem[int(node.pos[0])][int(node.pos[1]-1)]\n",
    "    if east!='X':\n",
    "        E=Node((int(node.pos[0]),int(node.pos[1]-1)),node, 'east', node.cost+1,\n",
    "        get_manhattan_distance(node,(int(node.pos[0])),int(node.pos[1]-1), goal) + node.cost+1)\n",
    "        moves.append((E.h_val,E))\n",
    "    west=problem[int(node.pos[0])][int(node.pos[1]+1)]\n",
    "    if west!='X':\n",
    "        W=Node((int(node.pos[0]),int(node.pos[1]+1)),node,'west', node.cost+1,\n",
    "        get_manhattan_distance(node,(int(node.pos[0])),int(node.pos[1]+1), goal) + node.cost+1)\n",
    "        moves.append((W.h_val,W))\n",
    "    moves.sort(key = lambda i: i[0])\n",
    "    return moves\n",
    "def get_manhattan_distance(node, x, y, goal):\n",
    "    \"\"\" \n",
    "    Return the manhattan distance between points p and q\n",
    "    assuming both to have the same number of dimensions\n",
    "    \"\"\"\n",
    "    # cost=abs((node.pos[0]-x)+(node.pos[1]-y))\n",
    "    man_cost=abs(goal[0]-x)+ abs(goal[1]-y)\n",
    "    return man_cost"
   ]
  },
  {
   "cell_type": "code",
   "execution_count": 66,
   "metadata": {},
   "outputs": [
    {
     "name": "stdout",
     "output_type": "stream",
     "text": [
      "(3, 11)\n",
      "(3, 12)\n",
      "(3, 13)\n",
      "(4, 13)\n",
      "(5, 13)\n",
      "(5, 12)\n",
      "(6, 12)\n",
      "(7, 12)\n",
      "(7, 11)\n",
      "(7, 10)\n",
      "(8, 10)\n",
      "(8, 9)\n",
      "(8, 8)\n",
      "(8, 7)\n",
      "(8, 6)\n",
      "(8, 5)\n",
      "(8, 4)\n",
      "(8, 3)\n",
      "(8, 2)\n",
      "(8, 1)\n"
     ]
    }
   ],
   "source": [
    "y= x.get_path_from_root()\n",
    "for i in y:\n",
    "    print(i.pos)"
   ]
  },
  {
   "cell_type": "code",
   "execution_count": 197,
   "metadata": {},
   "outputs": [
    {
     "name": "stdout",
     "output_type": "stream",
     "text": [
      "Node - pos = (8, 1); action = finshed; cost = 19\n",
      "Node - pos = (3, 11); action = None; cost = 0\n",
      "Node - pos = (3, 12); action = right; cost = 1\n",
      "Node - pos = (3, 13); action = right; cost = 2\n",
      "Node - pos = (4, 13); action = down; cost = 3\n",
      "Node - pos = (5, 13); action = down; cost = 4\n",
      "Node - pos = (5, 12); action = left; cost = 5\n",
      "Node - pos = (6, 12); action = down; cost = 6\n",
      "Node - pos = (7, 12); action = down; cost = 7\n",
      "Node - pos = (7, 11); action = left; cost = 8\n",
      "Node - pos = (7, 10); action = left; cost = 9\n",
      "Node - pos = (8, 10); action = down; cost = 10\n",
      "Node - pos = (8, 9); action = left; cost = 11\n",
      "Node - pos = (8, 8); action = left; cost = 12\n",
      "Node - pos = (8, 7); action = left; cost = 13\n",
      "Node - pos = (8, 6); action = left; cost = 14\n",
      "Node - pos = (8, 5); action = left; cost = 15\n",
      "Node - pos = (8, 4); action = left; cost = 16\n",
      "Node - pos = (8, 3); action = left; cost = 17\n",
      "Node - pos = (8, 2); action = left; cost = 18\n",
      "Node - pos = (8, 1); action = finshed; cost = 19\n"
     ]
    }
   ],
   "source": [
    "print(x.__str__())\n",
    "path = x.get_path_from_root()\n",
    "for i in path: print(i.__str__())"
   ]
  },
  {
   "cell_type": "code",
   "execution_count": 253,
   "metadata": {},
   "outputs": [
    {
     "data": {
      "image/png": "[encoded data removed]",
      "text/plain": [
       "<Figure size 432x288 with 1 Axes>"
      ]
     },
     "metadata": {
      "image/png": {
       "height": 183,
       "width": 362
      },
      "needs_background": "light"
     },
     "output_type": "display_data"
    },
    {
     "data": {
      "text/plain": [
       "'G'"
      ]
     },
     "execution_count": 253,
     "metadata": {},
     "output_type": "execute_result"
    }
   ],
   "source": [
    "mh.show_maze(maze)\n",
    "maze[8,1]"
   ]
  },
  {
   "cell_type": "code",
   "execution_count": 216,
   "metadata": {},
   "outputs": [
    {
     "data": {
      "text/plain": [
       "'Node - pos = (8, 1); action = None; cost = 9'"
      ]
     },
     "execution_count": 216,
     "metadata": {},
     "output_type": "execute_result"
    }
   ],
   "source": [
    "\n",
    "frontier = PriorityQueue()\n",
    "node = Node(mh.find_pos(maze), None, 'None', 0)\n",
    "goal = Node(mh.find_pos(maze, 'G'), None, 'None', 9)\n",
    "# frontier.put(node)\n",
    "# frontier.put(goal)\n",
    "frontier.put((node.cost, node))\n",
    "frontier.put((goal.cost, goal))\n",
    "frontier.get()\n",
    "ween = frontier.get()[1]\n",
    "ween.__str__()\n",
    "# frontier.get().pos"
   ]
  },
  {
   "cell_type": "markdown",
   "metadata": {},
   "source": [
    "Are your implementations complete and optimal? What is the time and space complexity?"
   ]
  },
  {
   "cell_type": "code",
   "execution_count": 13,
   "metadata": {},
   "outputs": [],
   "source": [
    "# Discussion"
   ]
  },
  {
   "cell_type": "markdown",
   "metadata": {},
   "source": [
    "## Task 4: Comparison and discussion [20 Points] \n",
    "\n",
    "Run experiments to compare the implemented algorithms.\n",
    "\n",
    "How to deal with issues:\n",
    "\n",
    "* Your implementation returns unexpected results: Try to debug and fix the code. Visualizing the maze, the current path and the frontier after every step is very helpful. If the code still does not work, then mark the result with an asterisk (*) and describe the issue below the table.\n",
    "\n",
    "* Your implementation cannot consistently solve a specific maze and ends up in an infinite loop:\n",
    "    Debug. If it is a shortcoming of the algorithm/implementation, then put \"N/A*\" in the results table and describe why this is happening."
   ]
  },
  {
   "cell_type": "code",
   "execution_count": 14,
   "metadata": {},
   "outputs": [],
   "source": [
    "# Add code"
   ]
  },
  {
   "cell_type": "markdown",
   "metadata": {},
   "source": [
    "Complete the following table for each maze.\n",
    "\n",
    "__Small maze__\n",
    "\n",
    "| algorithm | path cost | # of nodes expanded | max tree depth | max # of nodes in memory | max frontier size |\n",
    "|-----------|-----------|----------------|----------------|---------------|-------------------|\n",
    "| BFS       |           |                |                |               |                   |\n",
    "| DFS       |           |                |                |               |                   |\n",
    "| GBS       |           |                |                |               |                   |\n",
    "| A*        |           |                |                |               |                   |\n",
    "\n",
    "__Medium Maze__\n",
    "\n",
    "..."
   ]
  },
  {
   "cell_type": "markdown",
   "metadata": {},
   "source": [
    "Present the results as using charts (see [Python Code Examples/charts and tables](../Python_Code_Examples/charts_and_tables.ipynb)). "
   ]
  },
  {
   "cell_type": "code",
   "execution_count": 15,
   "metadata": {},
   "outputs": [],
   "source": [
    "# Add charts"
   ]
  },
  {
   "cell_type": "markdown",
   "metadata": {},
   "source": [
    "Discuss the most important lessons you have learned from implementing the different search strategies. "
   ]
  },
  {
   "cell_type": "code",
   "execution_count": 16,
   "metadata": {},
   "outputs": [],
   "source": [
    "# Add discussion"
   ]
  },
  {
   "cell_type": "markdown",
   "metadata": {},
   "source": [
    "## Graduate student advanced task: IDS and Multiple goals [10 Points]\n",
    "\n",
    "__Undergraduate students:__ This is a bonus task you can attempt if you like [+5 Bonus Points].\n",
    "\n",
    "Create a few mazes with multiple goals by adding one or two more goals to the medium size maze.\n",
    "Solve the maze with your implementations for DFS, BFS, and implement in addition IDS (iterative deepening search using DFS). \n",
    "\n",
    "Run experiments to show which implementations find the optimal solution and which do not. Discuss why that is the case."
   ]
  },
  {
   "cell_type": "code",
   "execution_count": 17,
   "metadata": {},
   "outputs": [],
   "source": [
    "# Your code/answer goes here"
   ]
  },
  {
   "cell_type": "markdown",
   "metadata": {},
   "source": [
    "## More advanced tasks to think about\n",
    "\n",
    "Instead of defining each square as a state, use only intersections as states. Now the storage requirement is reduced, but the path length between two intersections can be different. If we use total path length measured as the number of squares as path cost, how can we make sure that BFS and iterative deepening search is optimal? Change the code to do so."
   ]
  },
  {
   "cell_type": "code",
   "execution_count": 18,
   "metadata": {},
   "outputs": [],
   "source": [
    "# Your code/answer goes here"
   ]
  },
  {
   "cell_type": "markdown",
   "metadata": {},
   "source": [
    "Modify your A* search to add weights (see text book) and explore how different weights influence the result."
   ]
  },
  {
   "cell_type": "code",
   "execution_count": 19,
   "metadata": {},
   "outputs": [],
   "source": [
    "# Your code/answer goes here"
   ]
  },
  {
   "cell_type": "markdown",
   "metadata": {},
   "source": [
    "What happens if the agent does not know the layout of the maze in advance (i.e., faces an unkown, only partially observable environment)? How does the environment look then (PEAS description)? How would you implement a rational agent to solve the maze? What if the agent still has a GPS device to tell the distance to the goal?"
   ]
  },
  {
   "cell_type": "code",
   "execution_count": 20,
   "metadata": {},
   "outputs": [],
   "source": [
    "# Your code/answer goes here"
   ]
  }
 ],
 "metadata": {
  "kernelspec": {
   "display_name": "Python 3 (ipykernel)",
   "language": "python",
   "name": "python3"
  },
  "language_info": {
   "codemirror_mode": {
    "name": "ipython",
    "version": 3
   },
   "file_extension": ".py",
   "mimetype": "text/x-python",
   "name": "python",
   "nbconvert_exporter": "python",
   "pygments_lexer": "ipython3",
   "version": "3.9.10"
  }
 },
 "nbformat": 4,
 "nbformat_minor": 4
}
